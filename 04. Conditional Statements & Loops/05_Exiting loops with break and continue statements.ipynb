{
 "cells": [
  {
   "cell_type": "markdown",
   "id": "21664e24",
   "metadata": {},
   "source": [
    "<!-- In programming, loops are used to repeatedly execute a block of code until a certain condition is met. In some cases, you may want to exit a loop prematurely or skip the current iteration based on certain conditions. This is where the \"break\" and \"continue\" statements come into play.\n",
    "\n",
    "The \"break\" statement:\n",
    "The \"break\" statement is used to exit the loop immediately when a certain condition is satisfied. When the \"break\" statement is encountered within a loop, the program flow will jump to the first statement outside the loop. This means that any remaining iterations of the loop will be skipped, and the loop will be terminated. The \"break\" statement is commonly used when you want to exit a loop early, for example, when you have found the desired value or met a specific condition. Here's an example: -->"
   ]
  },
  {
   "cell_type": "markdown",
   "id": "b85e648e",
   "metadata": {},
   "source": [
    "<!-- In programming, loops are used to repeatedly execute a block of code until a certain condition is met. In some cases, you may want to exit a loop prematurely or skip the current iteration based on certain conditions. This is where the \"break\" and \"continue\" statements come into play.\n",
    "\n",
    "The \"break\" statement:\n",
    "The \"break\" statement is used to exit the loop immediately when a certain condition is satisfied. When the \"break\" statement is encountered within a loop, the program flow will jump to the first statement outside the loop. This means that any remaining iterations of the loop will be skipped, and the loop will be terminated. The \"break\" statement is commonly used when you want to exit a loop early, for example, when you have found the desired value or met a specific condition. Here's an example: -->"
   ]
  },
  {
   "cell_type": "code",
   "execution_count": 1,
   "id": "d31e4404",
   "metadata": {},
   "outputs": [
    {
     "name": "stdout",
     "output_type": "stream",
     "text": [
      "0\n",
      "1\n",
      "2\n",
      "3\n",
      "4\n"
     ]
    }
   ],
   "source": [
    "for i in range(10):\n",
    "    if i == 5:\n",
    "        break\n",
    "    print(i)"
   ]
  },
  {
   "cell_type": "markdown",
   "id": "f9215cd9",
   "metadata": {},
   "source": [
    "<!-- The \"continue\" statement:\n",
    "The \"continue\" statement is used to skip the rest of the current iteration and move on to the next iteration of the loop. When the \"continue\" statement is encountered within a loop, the program flow jumps back to the loop's condition check. This means that any code after the \"continue\" statement within the loop's block will be skipped, and the next iteration will begin. The \"continue\" statement is commonly used when you want to skip certain iterations based on specific conditions. Here's an example: -->"
   ]
  },
  {
   "cell_type": "code",
   "execution_count": 2,
   "id": "a4806b6a",
   "metadata": {},
   "outputs": [
    {
     "name": "stdout",
     "output_type": "stream",
     "text": [
      "1\n",
      "3\n",
      "5\n",
      "7\n",
      "9\n"
     ]
    }
   ],
   "source": [
    "for i in range(10):\n",
    "    if i % 2 == 0:\n",
    "        continue\n",
    "    print(i)"
   ]
  },
  {
   "cell_type": "code",
   "execution_count": 3,
   "id": "bbe3f4aa",
   "metadata": {},
   "outputs": [
    {
     "name": "stdout",
     "output_type": "stream",
     "text": [
      "Enter your password: Summer2087\n",
      "Incorrect password. Try again.\n",
      "Enter your password: secret\n",
      "Access granted!\n"
     ]
    }
   ],
   "source": [
    "#break\n",
    "\n",
    "while True:\n",
    "    password = input(\"Enter your password: \")\n",
    "    if password == \"secret\":\n",
    "        print(\"Access granted!\")\n",
    "        break\n",
    "    else:\n",
    "        print(\"Incorrect password. Try again.\")"
   ]
  },
  {
   "cell_type": "code",
   "execution_count": 4,
   "id": "b48d55d6",
   "metadata": {},
   "outputs": [
    {
     "name": "stdout",
     "output_type": "stream",
     "text": [
      "1\n",
      "3\n",
      "5\n",
      "7\n",
      "9\n"
     ]
    }
   ],
   "source": [
    "#continue \n",
    "\n",
    "numbers = [1, 2, 3, 4, 5, 6, 7, 8, 9, 10]\n",
    "\n",
    "for num in numbers:\n",
    "    if num % 2 == 0:\n",
    "        continue\n",
    "    print(num)"
   ]
  },
  {
   "cell_type": "code",
   "execution_count": 5,
   "id": "eb6754f6",
   "metadata": {},
   "outputs": [
    {
     "name": "stdout",
     "output_type": "stream",
     "text": [
      "apple red\n",
      "banana red\n",
      "cherry red\n"
     ]
    }
   ],
   "source": [
    "# Example using \"break\" with nested loops:\n",
    "\n",
    "fruits = [\"apple\", \"banana\", \"cherry\"]\n",
    "colors = [\"red\", \"yellow\", \"red\"]\n",
    "\n",
    "for fruit in fruits:\n",
    "    for color in colors:\n",
    "        if color == \"yellow\":\n",
    "            break\n",
    "        print(fruit, color)"
   ]
  },
  {
   "cell_type": "code",
   "execution_count": 6,
   "id": "bc85b8ba",
   "metadata": {},
   "outputs": [
    {
     "name": "stdout",
     "output_type": "stream",
     "text": [
      "Outer loop: 0\n",
      "Inner loop: 0\n",
      "Inner loop: 2\n",
      "Outer loop: 1\n",
      "Inner loop: 0\n",
      "Inner loop: 2\n",
      "Outer loop: 2\n",
      "Inner loop: 0\n"
     ]
    }
   ],
   "source": [
    "#break and continue using nested loops\n",
    "\n",
    "for i in range(3):\n",
    "    print(\"Outer loop:\", i)\n",
    "    for j in range(3):\n",
    "        if j == 1:\n",
    "            continue\n",
    "        print(\"Inner loop:\", j)\n",
    "        if i == 2:\n",
    "            break"
   ]
  }
 ],
 "metadata": {
  "kernelspec": {
   "display_name": "Python 3 (ipykernel)",
   "language": "python",
   "name": "python3"
  },
  "language_info": {
   "codemirror_mode": {
    "name": "ipython",
    "version": 3
   },
   "file_extension": ".py",
   "mimetype": "text/x-python",
   "name": "python",
   "nbconvert_exporter": "python",
   "pygments_lexer": "ipython3",
   "version": "3.9.7"
  }
 },
 "nbformat": 4,
 "nbformat_minor": 5
}
