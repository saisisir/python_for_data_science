{
 "cells": [
  {
   "cell_type": "code",
   "execution_count": 2,
   "id": "4d189b2f",
   "metadata": {},
   "outputs": [
    {
     "name": "stdout",
     "output_type": "stream",
     "text": [
      "apple\n",
      "banana\n",
      "cherry\n"
     ]
    }
   ],
   "source": [
    "# for loop:\n",
    "# The for loop is typically used when you know the number of iterations in advance.\n",
    "\n",
    "# Example 1: Looping through a sequence\n",
    "fruits = [\"apple\", \"banana\", \"cherry\"]\n",
    "for fruit in fruits:\n",
    "    print(fruit)"
   ]
  },
  {
   "cell_type": "code",
   "execution_count": 3,
   "id": "c4146d5a",
   "metadata": {},
   "outputs": [
    {
     "name": "stdout",
     "output_type": "stream",
     "text": [
      "1\n",
      "2\n",
      "3\n",
      "4\n"
     ]
    }
   ],
   "source": [
    "# Example 2: Looping through a range of numbers\n",
    "\n",
    "for i in range(1, 5):\n",
    "    print(i)"
   ]
  },
  {
   "cell_type": "code",
   "execution_count": 4,
   "id": "29fee529",
   "metadata": {},
   "outputs": [
    {
     "name": "stdout",
     "output_type": "stream",
     "text": [
      "0\n",
      "1\n",
      "2\n",
      "3\n",
      "4\n"
     ]
    }
   ],
   "source": [
    "# while loop:\n",
    "# The while loop is useful when you want to repeat a block of code until a certain condition is met.\n",
    "\n",
    "# Example 1: Looping until a condition is met\n",
    "count = 0\n",
    "while count < 5:\n",
    "    print(count)\n",
    "    count += 1"
   ]
  },
  {
   "cell_type": "code",
   "execution_count": 5,
   "id": "eb64fea3",
   "metadata": {},
   "outputs": [
    {
     "name": "stdout",
     "output_type": "stream",
     "text": [
      "Enter a value (type 'quit' to exit): 14\n",
      "You entered: 14\n",
      "Enter a value (type 'quit' to exit): 12\n",
      "You entered: 12\n",
      "Enter a value (type 'quit' to exit): quit\n",
      "You entered: quit\n"
     ]
    }
   ],
   "source": [
    "# Example 2: Looping with user input\n",
    "\n",
    "user_input = \"\"\n",
    "while user_input != \"quit\":\n",
    "    user_input = input(\"Enter a value (type 'quit' to exit): \")\n",
    "    print(\"You entered:\", user_input)"
   ]
  },
  {
   "cell_type": "code",
   "execution_count": 6,
   "id": "0cf52c63",
   "metadata": {},
   "outputs": [
    {
     "name": "stdout",
     "output_type": "stream",
     "text": [
      "H\n",
      "e\n",
      "l\n",
      "l\n",
      "o\n",
      ",\n",
      " \n",
      "w\n",
      "o\n",
      "r\n",
      "l\n",
      "d\n",
      "!\n"
     ]
    }
   ],
   "source": [
    "# Looping through a string:\n",
    "\n",
    "message = \"Hello, world!\"\n",
    "for char in message:\n",
    "    print(char)"
   ]
  },
  {
   "cell_type": "code",
   "execution_count": 7,
   "id": "b02eef2a",
   "metadata": {},
   "outputs": [
    {
     "name": "stdout",
     "output_type": "stream",
     "text": [
      "Sum: 15\n"
     ]
    }
   ],
   "source": [
    "# Looping through a list of numbers and calculating their sum:\n",
    "\n",
    "numbers = [1, 2, 3, 4, 5]\n",
    "sum = 0\n",
    "for num in numbers:\n",
    "    sum += num\n",
    "print(\"Sum:\", sum)"
   ]
  },
  {
   "cell_type": "code",
   "execution_count": 8,
   "id": "adaece3e",
   "metadata": {},
   "outputs": [
    {
     "name": "stdout",
     "output_type": "stream",
     "text": [
      "John scored 85\n",
      "Alice scored 92\n",
      "Bob scored 78\n"
     ]
    }
   ],
   "source": [
    "# Iterating over a dictionary and accessing both keys and values:\n",
    "\n",
    "student_grades = {\"John\": 85, \"Alice\": 92, \"Bob\": 78}\n",
    "for student, grade in student_grades.items():\n",
    "    print(student, \"scored\", grade)"
   ]
  },
  {
   "cell_type": "code",
   "execution_count": 9,
   "id": "60f6326f",
   "metadata": {},
   "outputs": [
    {
     "name": "stdout",
     "output_type": "stream",
     "text": [
      "0\n",
      "2\n",
      "4\n",
      "6\n",
      "8\n"
     ]
    }
   ],
   "source": [
    "# Looping through a range of numbers with a step size:\n",
    "\n",
    "for i in range(0, 10, 2):\n",
    "    print(i)"
   ]
  },
  {
   "cell_type": "code",
   "execution_count": 15,
   "id": "15a7b082",
   "metadata": {},
   "outputs": [
    {
     "name": "stdout",
     "output_type": "stream",
     "text": [
      "1\n",
      "2\n",
      "3\n",
      "4\n",
      "5\n",
      "6\n",
      "7\n",
      "8\n",
      "9\n"
     ]
    }
   ],
   "source": [
    "# Nested for loops for iterating over a 2D list:\n",
    "\n",
    "matrix = [[1, 2, 3],\n",
    "          [4, 5, 6],\n",
    "          [7, 8, 9]]\n",
    "for row in matrix:\n",
    "    for num in row:\n",
    "        print(num)"
   ]
  },
  {
   "cell_type": "code",
   "execution_count": 16,
   "id": "837bd9a2",
   "metadata": {},
   "outputs": [
    {
     "name": "stdout",
     "output_type": "stream",
     "text": [
      "apple\n",
      "banana\n",
      "cherry\n"
     ]
    }
   ],
   "source": [
    "# Looping through a list and breaking out of the loop:\n",
    "\n",
    "fruits = [\"apple\", \"banana\", \"cherry\", \"durian\", \"elderberry\"]\n",
    "for fruit in fruits:\n",
    "    if fruit == \"durian\":\n",
    "        break\n",
    "    print(fruit)"
   ]
  },
  {
   "cell_type": "code",
   "execution_count": 17,
   "id": "9a4495ef",
   "metadata": {},
   "outputs": [
    {
     "name": "stdout",
     "output_type": "stream",
     "text": [
      "1\n",
      "2\n",
      "4\n",
      "5\n"
     ]
    }
   ],
   "source": [
    "# Skipping specific iterations using continue:\n",
    "\n",
    "for i in range(1, 6):\n",
    "    if i == 3:\n",
    "        continue\n",
    "    print(i)"
   ]
  },
  {
   "cell_type": "code",
   "execution_count": 18,
   "id": "f4a147e4",
   "metadata": {},
   "outputs": [
    {
     "name": "stdout",
     "output_type": "stream",
     "text": [
      "Occurrences of o: 4\n"
     ]
    }
   ],
   "source": [
    "# Iterating over a string and counting the occurrences of a specific character:\n",
    "\n",
    "sentence = \"The quick brown fox jumps over the lazy dog\"\n",
    "target_char = \"o\"\n",
    "count = 0\n",
    "for char in sentence:\n",
    "    if char == target_char:\n",
    "        count += 1\n",
    "print(\"Occurrences of\", target_char + \":\", count)"
   ]
  },
  {
   "cell_type": "code",
   "execution_count": 19,
   "id": "ce00619b",
   "metadata": {},
   "outputs": [
    {
     "name": "stdout",
     "output_type": "stream",
     "text": [
      "Even numbers: [2, 4, 6, 8]\n"
     ]
    }
   ],
   "source": [
    "# Looping through a list and appending values to a new list based on a condition:\n",
    "\n",
    "numbers = [1, 2, 3, 4, 5, 6, 7, 8, 9]\n",
    "even_numbers = []\n",
    "for num in numbers:\n",
    "    if num % 2 == 0:\n",
    "        even_numbers.append(num)\n",
    "print(\"Even numbers:\", even_numbers)"
   ]
  },
  {
   "cell_type": "code",
   "execution_count": 20,
   "id": "f477ee12",
   "metadata": {},
   "outputs": [
    {
     "name": "stdout",
     "output_type": "stream",
     "text": [
      "1\n",
      "2\n",
      "3\n",
      "4\n",
      "5\n"
     ]
    }
   ],
   "source": [
    "# Counting up using a while loop:\n",
    "\n",
    "count = 1\n",
    "while count <= 5:\n",
    "    print(count)\n",
    "    count += 1"
   ]
  },
  {
   "cell_type": "code",
   "execution_count": 21,
   "id": "ff498956",
   "metadata": {},
   "outputs": [
    {
     "name": "stdout",
     "output_type": "stream",
     "text": [
      "Enter a value (type 'quit' to exit): quit\n",
      "You entered: quit\n"
     ]
    }
   ],
   "source": [
    "# Continuous input until a specific condition is met:\n",
    "\n",
    "user_input = \"\"\n",
    "while user_input != \"quit\":\n",
    "    user_input = input(\"Enter a value (type 'quit' to exit): \")\n",
    "    print(\"You entered:\", user_input)"
   ]
  },
  {
   "cell_type": "code",
   "execution_count": 22,
   "id": "24599469",
   "metadata": {},
   "outputs": [
    {
     "name": "stdout",
     "output_type": "stream",
     "text": [
      "Guess the number (1-10): 5\n",
      "Too low!\n",
      "Guess the number (1-10): 8\n",
      "Too high!\n",
      "Guess the number (1-10): 7\n",
      "Too high!\n",
      "Guess the number (1-10): 6\n",
      "Congratulations, you guessed the number!\n"
     ]
    }
   ],
   "source": [
    "# Looping until a certain condition is satisfied:\n",
    "\n",
    "import random\n",
    "\n",
    "target_number = random.randint(1, 10)\n",
    "guess = 0\n",
    "while guess != target_number:\n",
    "    guess = int(input(\"Guess the number (1-10): \"))\n",
    "    if guess < target_number:\n",
    "        print(\"Too low!\")\n",
    "    elif guess > target_number:\n",
    "        print(\"Too high!\")\n",
    "    else:\n",
    "        print(\"Congratulations, you guessed the number!\")"
   ]
  },
  {
   "cell_type": "code",
   "execution_count": 23,
   "id": "8ab131a6",
   "metadata": {},
   "outputs": [
    {
     "name": "stdout",
     "output_type": "stream",
     "text": [
      "apple\n",
      "banana\n",
      "cherry\n",
      "durian\n"
     ]
    }
   ],
   "source": [
    "# Iterating over elements in a list using a while loop:\n",
    "\n",
    "fruits = [\"apple\", \"banana\", \"cherry\", \"durian\"]\n",
    "index = 0\n",
    "while index < len(fruits):\n",
    "    print(fruits[index])\n",
    "    index += 1"
   ]
  },
  {
   "cell_type": "code",
   "execution_count": 24,
   "id": "0abb6dc5",
   "metadata": {},
   "outputs": [
    {
     "name": "stdout",
     "output_type": "stream",
     "text": [
      "1\n",
      "2\n",
      "3\n",
      "4\n",
      "5\n"
     ]
    }
   ],
   "source": [
    "# Breaking out of a while loop based on a condition:\n",
    "\n",
    "count = 1\n",
    "while True:\n",
    "    print(count)\n",
    "    count += 1\n",
    "    if count > 5:\n",
    "        break"
   ]
  },
  {
   "cell_type": "code",
   "execution_count": 26,
   "id": "9a54b6bd",
   "metadata": {},
   "outputs": [
    {
     "name": "stdout",
     "output_type": "stream",
     "text": [
      "Enter your age: 0\n",
      "Invalid input. Please enter a positive integer.\n",
      "Enter your age: ten\n",
      "Invalid input. Please enter a positive integer.\n",
      "Enter your age: 10\n",
      "Your age is: 10\n"
     ]
    }
   ],
   "source": [
    "# Handling invalid user input using a while loop:\n",
    "\n",
    "valid_input = False\n",
    "while not valid_input:\n",
    "    age = input(\"Enter your age: \")\n",
    "    if age.isdigit() and int(age) > 0:\n",
    "        valid_input = True\n",
    "    else:\n",
    "        print(\"Invalid input. Please enter a positive integer.\")\n",
    "print(\"Your age is:\", age)"
   ]
  },
  {
   "cell_type": "code",
   "execution_count": 27,
   "id": "cab6dc2f",
   "metadata": {},
   "outputs": [
    {
     "name": "stdout",
     "output_type": "stream",
     "text": [
      "Enter a number (or 'exit' to quit): 10\n",
      "Enter a number (or 'exit' to quit): 12\n",
      "Enter a number (or 'exit' to quit): 13\n",
      "Enter a number (or 'exit' to quit): exit\n",
      "Result: 35\n"
     ]
    }
   ],
   "source": [
    "# Performing calculations based on user input until an exit condition is encountered:\n",
    "\n",
    "exit_command = \"exit\"\n",
    "result = 0\n",
    "user_input = input(\"Enter a number (or 'exit' to quit): \")\n",
    "while user_input != exit_command:\n",
    "    number = int(user_input)\n",
    "    result += number\n",
    "    user_input = input(\"Enter a number (or 'exit' to quit): \")\n",
    "print(\"Result:\", result)"
   ]
  }
 ],
 "metadata": {
  "kernelspec": {
   "display_name": "Python 3 (ipykernel)",
   "language": "python",
   "name": "python3"
  },
  "language_info": {
   "codemirror_mode": {
    "name": "ipython",
    "version": 3
   },
   "file_extension": ".py",
   "mimetype": "text/x-python",
   "name": "python",
   "nbconvert_exporter": "python",
   "pygments_lexer": "ipython3",
   "version": "3.9.7"
  }
 },
 "nbformat": 4,
 "nbformat_minor": 5
}
