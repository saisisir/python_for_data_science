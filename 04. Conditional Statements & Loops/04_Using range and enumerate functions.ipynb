{
 "cells": [
  {
   "cell_type": "code",
   "execution_count": 1,
   "id": "76f2e9c6",
   "metadata": {},
   "outputs": [
    {
     "name": "stdout",
     "output_type": "stream",
     "text": [
      "0\n",
      "1\n",
      "2\n",
      "3\n",
      "4\n"
     ]
    }
   ],
   "source": [
    "# The range and enumerate functions in Python are useful tools for working with sequences like lists, tuples, or strings.\n",
    "\n",
    "# The range function generates a sequence of numbers within a specified range. It can be used in different ways:\n",
    "\n",
    "# Using range(stop): This creates a sequence from 0 to stop - 1.\n",
    "\n",
    "for i in range(5):\n",
    "    print(i)"
   ]
  },
  {
   "cell_type": "code",
   "execution_count": 2,
   "id": "81955460",
   "metadata": {},
   "outputs": [
    {
     "name": "stdout",
     "output_type": "stream",
     "text": [
      "2\n",
      "3\n",
      "4\n",
      "5\n"
     ]
    }
   ],
   "source": [
    "# Using range(start, stop): This generates a sequence from start to stop - 1.\n",
    "\n",
    "for i in range(2, 6):\n",
    "    print(i)"
   ]
  },
  {
   "cell_type": "code",
   "execution_count": 3,
   "id": "4c73a007",
   "metadata": {},
   "outputs": [
    {
     "name": "stdout",
     "output_type": "stream",
     "text": [
      "1\n",
      "3\n",
      "5\n",
      "7\n",
      "9\n"
     ]
    }
   ],
   "source": [
    "# Using range(start, stop, step): This generates a sequence from start to stop - 1 with a specified step size.\n",
    "\n",
    "for i in range(1, 10, 2):\n",
    "    print(i)"
   ]
  },
  {
   "cell_type": "code",
   "execution_count": 4,
   "id": "cb6bf002",
   "metadata": {},
   "outputs": [
    {
     "name": "stdout",
     "output_type": "stream",
     "text": [
      "0 apple\n",
      "1 banana\n",
      "2 orange\n"
     ]
    }
   ],
   "source": [
    "# The enumerate function is used to iterate over a sequence while keeping track of the index and the corresponding value. \n",
    "# It returns pairs of (index, value). Here's how you can use it:\n",
    "\n",
    "fruits = ['apple', 'banana', 'orange']\n",
    "for index, fruit in enumerate(fruits):\n",
    "    print(index, fruit)"
   ]
  },
  {
   "cell_type": "code",
   "execution_count": 5,
   "id": "f0edf168",
   "metadata": {},
   "outputs": [
    {
     "name": "stdout",
     "output_type": "stream",
     "text": [
      "1 apple\n",
      "2 banana\n",
      "3 orange\n"
     ]
    }
   ],
   "source": [
    "# You can also specify a start index for enumerate using the start parameter. By default, it starts from 0.\n",
    "\n",
    "fruits = ['apple', 'banana', 'orange']\n",
    "for index, fruit in enumerate(fruits, start=1):\n",
    "    print(index, fruit)"
   ]
  },
  {
   "cell_type": "code",
   "execution_count": 7,
   "id": "389bf3c8",
   "metadata": {},
   "outputs": [
    {
     "name": "stdout",
     "output_type": "stream",
     "text": [
      "0 apple\n",
      "The index multiplied by 2 is: 0\n",
      "1 banana\n",
      "The index multiplied by 2 is: 2\n",
      "2 orange\n",
      "The index multiplied by 2 is: 4\n"
     ]
    }
   ],
   "source": [
    "fruits = ['apple', 'banana', 'orange']\n",
    "for index, fruit in enumerate(fruits):\n",
    "    print(index, fruit)\n",
    "    print(\"The index multiplied by 2 is:\", index * 2)"
   ]
  },
  {
   "cell_type": "code",
   "execution_count": 8,
   "id": "4c7a29ed",
   "metadata": {},
   "outputs": [
    {
     "name": "stdout",
     "output_type": "stream",
     "text": [
      "15\n"
     ]
    }
   ],
   "source": [
    "# Example 1: Calculating the sum of numbers in a range:\n",
    "\n",
    "total = 0\n",
    "for num in range(1, 6):\n",
    "    total += num\n",
    "print(total)"
   ]
  },
  {
   "cell_type": "code",
   "execution_count": 13,
   "id": "018c91b1",
   "metadata": {},
   "outputs": [
    {
     "name": "stdout",
     "output_type": "stream",
     "text": [
      "!dlroW ,olleH\n"
     ]
    }
   ],
   "source": [
    "# Example 2: Reversing a string using enumerate:\n",
    "\n",
    "text = \"Hello, World!\"\n",
    "reversed_text = \"\"\n",
    "for index, char in enumerate(text[::-1]):\n",
    "    reversed_text += char\n",
    "print(reversed_text)"
   ]
  },
  {
   "cell_type": "code",
   "execution_count": 14,
   "id": "7ce6e2b3",
   "metadata": {},
   "outputs": [
    {
     "name": "stdout",
     "output_type": "stream",
     "text": [
      "2\n",
      "4\n",
      "6\n",
      "8\n",
      "10\n"
     ]
    }
   ],
   "source": [
    "# Example 3: Printing even numbers from a range:\n",
    "\n",
    "for num in range(1, 11):\n",
    "    if num % 2 == 0:\n",
    "        print(num)"
   ]
  },
  {
   "cell_type": "code",
   "execution_count": 15,
   "id": "04996d96",
   "metadata": {},
   "outputs": [
    {
     "name": "stdout",
     "output_type": "stream",
     "text": [
      "Found 'banana' at index 1\n",
      "Found 'banana' at index 3\n"
     ]
    }
   ],
   "source": [
    "# Example 4: Finding the index of a specific value in a list using enumerate:\n",
    "\n",
    "fruits = ['apple', 'banana', 'orange', 'banana']\n",
    "search_item = 'banana'\n",
    "for index, fruit in enumerate(fruits):\n",
    "    if fruit == search_item:\n",
    "        print(f\"Found '{search_item}' at index {index}\")"
   ]
  },
  {
   "cell_type": "code",
   "execution_count": 16,
   "id": "265fc3da",
   "metadata": {},
   "outputs": [
    {
     "name": "stdout",
     "output_type": "stream",
     "text": [
      "{0: 'apple', 1: 'banana', 2: 'orange'}\n"
     ]
    }
   ],
   "source": [
    "# Example 5: Creating a dictionary with enumerated values:\n",
    "        \n",
    "fruits = ['apple', 'banana', 'orange']\n",
    "\n",
    "fruit_dict = {index: fruit for index, fruit in enumerate(fruits)}\n",
    "print(fruit_dict)"
   ]
  },
  {
   "cell_type": "code",
   "execution_count": 17,
   "id": "ee4c7536",
   "metadata": {},
   "outputs": [
    {
     "name": "stdout",
     "output_type": "stream",
     "text": [
      "[1, 4, 9, 16, 25]\n"
     ]
    }
   ],
   "source": [
    "# Example 6: Generating a list of squares of numbers using range:\n",
    "\n",
    "squares = [num**2 for num in range(1, 6)]\n",
    "print(squares)"
   ]
  },
  {
   "cell_type": "code",
   "execution_count": 18,
   "id": "5fc034dc",
   "metadata": {},
   "outputs": [
    {
     "name": "stdout",
     "output_type": "stream",
     "text": [
      "Found 'banana' at index 1\n"
     ]
    }
   ],
   "source": [
    "# Example 7: Finding the index of the first occurrence of a value using enumerate:\n",
    "\n",
    "fruits = ['apple', 'banana', 'orange', 'banana']\n",
    "search_item = 'banana'\n",
    "for index, fruit in enumerate(fruits):\n",
    "    if fruit == search_item:\n",
    "        print(f\"Found '{search_item}' at index {index}\")\n",
    "        break"
   ]
  },
  {
   "cell_type": "code",
   "execution_count": 19,
   "id": "e4942d77",
   "metadata": {},
   "outputs": [
    {
     "name": "stdout",
     "output_type": "stream",
     "text": [
      "[5, 4, 3, 2, 1]\n"
     ]
    }
   ],
   "source": [
    "# Example 8: Reversing a list using enumerate and range:\n",
    "\n",
    "numbers = [1, 2, 3, 4, 5]\n",
    "reversed_list = [numbers[index] for index in range(len(numbers)-1, -1, -1)]\n",
    "print(reversed_list)"
   ]
  },
  {
   "cell_type": "code",
   "execution_count": 20,
   "id": "939128a2",
   "metadata": {},
   "outputs": [
    {
     "name": "stdout",
     "output_type": "stream",
     "text": [
      "Number of vowels: 3\n"
     ]
    }
   ],
   "source": [
    "# Example 9: Counting the number of vowels in a string using enumerate:\n",
    "\n",
    "text = \"Hello, World!\"\n",
    "vowels = \"aeiou\"\n",
    "count = 0\n",
    "for index, char in enumerate(text):\n",
    "    if char.lower() in vowels:\n",
    "        count += 1\n",
    "print(f\"Number of vowels: {count}\")"
   ]
  }
 ],
 "metadata": {
  "kernelspec": {
   "display_name": "Python 3 (ipykernel)",
   "language": "python",
   "name": "python3"
  },
  "language_info": {
   "codemirror_mode": {
    "name": "ipython",
    "version": 3
   },
   "file_extension": ".py",
   "mimetype": "text/x-python",
   "name": "python",
   "nbconvert_exporter": "python",
   "pygments_lexer": "ipython3",
   "version": "3.9.7"
  }
 },
 "nbformat": 4,
 "nbformat_minor": 5
}
