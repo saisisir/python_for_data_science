{
 "cells": [
  {
   "cell_type": "code",
   "execution_count": 1,
   "id": "0f71ae98",
   "metadata": {},
   "outputs": [
    {
     "name": "stdout",
     "output_type": "stream",
     "text": [
      "The number is positive.\n"
     ]
    }
   ],
   "source": [
    "# Conditional statements are a fundamental part of programming and are used to control the flow of execution in a program. \n",
    "# In Python, conditional statements are implemented using if-else and elif (short for \"else if\") statements. These statements \n",
    "# allow you to specify different courses of action based on certain conditions.\n",
    "\n",
    "# Here's the general syntax of an if-else statement in Python:\n",
    "\n",
    "# if condition:\n",
    "#     # code to be executed if the condition is True\n",
    "# else:\n",
    "#     # code to be executed if the condition is False\n",
    "    \n",
    "# The condition is an expression that evaluates to either True or False. If the condition is True, the code block indented \n",
    "# under the if statement is executed. Otherwise, if the condition is False, the code block indented under the else statement \n",
    "# is executed.\n",
    "\n",
    "# For example, let's say we want to check if a number is positive or negative:\n",
    "\n",
    "num = 5\n",
    "\n",
    "if num > 0:\n",
    "    print(\"The number is positive.\")\n",
    "else:\n",
    "    print(\"The number is negative.\")"
   ]
  },
  {
   "cell_type": "code",
   "execution_count": 2,
   "id": "ae06d48b",
   "metadata": {},
   "outputs": [
    {
     "name": "stdout",
     "output_type": "stream",
     "text": [
      "The number is positive.\n"
     ]
    }
   ],
   "source": [
    "#elif\n",
    "num = 5\n",
    "\n",
    "if num > 0:\n",
    "    print(\"The number is positive.\")\n",
    "elif num == 0:\n",
    "    print(\"The number is zero.\")\n",
    "else:\n",
    "    print(\"The number is negative.\")\n",
    "    \n",
    "# In this case, if the value of num is greater than 0, the first print statement will be executed. If it is equal to 0, \n",
    "# the second print statement will be executed. Otherwise, if none of the previous conditions are met, the third print statement\n",
    "# will be executed.\n",
    "\n",
    "# You can have multiple elif statements to handle different conditions, but only one if block and one else block within a \n",
    "# given if-else statement.\n",
    "\n",
    "# Conditional statements are powerful tools that allow programs to make decisions and choose different paths based on \n",
    "# specific conditions, enabling more dynamic and flexible program execution.    "
   ]
  },
  {
   "cell_type": "code",
   "execution_count": 3,
   "id": "3e1a681c",
   "metadata": {},
   "outputs": [
    {
     "name": "stdout",
     "output_type": "stream",
     "text": [
      "The number is even.\n"
     ]
    }
   ],
   "source": [
    "#Checking if a number is even or odd:\n",
    "\n",
    "num = 6\n",
    "\n",
    "if num % 2 == 0:\n",
    "    print(\"The number is even.\")\n",
    "else:\n",
    "    print(\"The number is odd.\")"
   ]
  },
  {
   "cell_type": "code",
   "execution_count": 4,
   "id": "eb8dc5fb",
   "metadata": {},
   "outputs": [
    {
     "name": "stdout",
     "output_type": "stream",
     "text": [
      "The maximum number is: 10\n"
     ]
    }
   ],
   "source": [
    "#Determining the maximum of three numbers:\n",
    "\n",
    "num1 = 10\n",
    "num2 = 5\n",
    "num3 = 8\n",
    "\n",
    "if num1 >= num2 and num1 >= num3:\n",
    "    print(\"The maximum number is:\", num1)\n",
    "elif num2 >= num1 and num2 >= num3:\n",
    "    print(\"The maximum number is:\", num2)\n",
    "else:\n",
    "    print(\"The maximum number is:\", num3)"
   ]
  },
  {
   "cell_type": "code",
   "execution_count": 12,
   "id": "83d52c6c",
   "metadata": {},
   "outputs": [
    {
     "name": "stdout",
     "output_type": "stream",
     "text": [
      "100 is not a leap year.\n"
     ]
    }
   ],
   "source": [
    "# Checking if a year is a leap year:\n",
    "    \n",
    "year = 100\n",
    "\n",
    "if year % 4 == 0 and (year % 100 != 0 or year % 400 == 0):\n",
    "    print(year, \"is a leap year.\")\n",
    "else:\n",
    "    print(year, \"is not a leap year.\")"
   ]
  },
  {
   "cell_type": "code",
   "execution_count": 17,
   "id": "16a06465",
   "metadata": {},
   "outputs": [
    {
     "name": "stdout",
     "output_type": "stream",
     "text": [
      "The student's grade is: B\n"
     ]
    }
   ],
   "source": [
    "#Categorizing a student's grade based on a score:\n",
    "\n",
    "score = 85\n",
    "\n",
    "if score >= 90:\n",
    "    grade = \"A\"\n",
    "elif score >= 80:\n",
    "    grade = \"B\"\n",
    "elif score >= 70:\n",
    "    grade = \"C\"\n",
    "elif score >= 60:\n",
    "    grade = \"D\"\n",
    "else:\n",
    "    grade = \"F\"\n",
    "\n",
    "print(\"The student's grade is:\", grade)"
   ]
  },
  {
   "cell_type": "code",
   "execution_count": 18,
   "id": "d31834df",
   "metadata": {},
   "outputs": [
    {
     "name": "stdout",
     "output_type": "stream",
     "text": [
      "The character is a vowel.\n"
     ]
    }
   ],
   "source": [
    "# Checking if a character is a vowel or a consonant:\n",
    "char = 'a'\n",
    "\n",
    "if char.lower() in ['a', 'e', 'i', 'o', 'u']:\n",
    "    print(\"The character is a vowel.\")\n",
    "else:\n",
    "    print(\"The character is a consonant.\")"
   ]
  },
  {
   "cell_type": "code",
   "execution_count": 19,
   "id": "d82a82db",
   "metadata": {},
   "outputs": [
    {
     "name": "stdout",
     "output_type": "stream",
     "text": [
      "It is an isosceles triangle.\n"
     ]
    }
   ],
   "source": [
    "# Determining the type of a triangle based on its sides:\n",
    "\n",
    "side1 = 5\n",
    "side2 = 5\n",
    "side3 = 6\n",
    "\n",
    "if side1 == side2 == side3:\n",
    "    print(\"It is an equilateral triangle.\")\n",
    "elif side1 == side2 or side1 == side3 or side2 == side3:\n",
    "    print(\"It is an isosceles triangle.\")\n",
    "else:\n",
    "    print(\"It is a scalene triangle.\")"
   ]
  },
  {
   "cell_type": "code",
   "execution_count": 20,
   "id": "e86df54b",
   "metadata": {},
   "outputs": [
    {
     "name": "stdout",
     "output_type": "stream",
     "text": [
      "2024 is a leap year.\n"
     ]
    }
   ],
   "source": [
    "# Checking if a year is a leap year using a function:\n",
    "\n",
    "def is_leap_year(year):\n",
    "    if year % 4 == 0 and (year % 100 != 0 or year % 400 == 0):\n",
    "        return True\n",
    "    else:\n",
    "        return False\n",
    "\n",
    "year = 2024\n",
    "if is_leap_year(year):\n",
    "    print(year, \"is a leap year.\")\n",
    "else:\n",
    "    print(year, \"is not a leap year.\")"
   ]
  },
  {
   "cell_type": "code",
   "execution_count": 21,
   "id": "41ae51d2",
   "metadata": {},
   "outputs": [
    {
     "name": "stdout",
     "output_type": "stream",
     "text": [
      "Enter your username: sisir.sahu\n",
      "Enter your password: TommyHilfiger\n",
      "Invalid username or password. Login failed.\n"
     ]
    }
   ],
   "source": [
    "# Simulating a login system:\n",
    "\n",
    "username = \"admin\"\n",
    "password = \"password\"\n",
    "\n",
    "input_username = input(\"Enter your username: \")\n",
    "input_password = input(\"Enter your password: \")\n",
    "\n",
    "if input_username == username and input_password == password:\n",
    "    print(\"Login successful!\")\n",
    "else:\n",
    "    print(\"Invalid username or password. Login failed.\")"
   ]
  }
 ],
 "metadata": {
  "kernelspec": {
   "display_name": "Python 3 (ipykernel)",
   "language": "python",
   "name": "python3"
  },
  "language_info": {
   "codemirror_mode": {
    "name": "ipython",
    "version": 3
   },
   "file_extension": ".py",
   "mimetype": "text/x-python",
   "name": "python",
   "nbconvert_exporter": "python",
   "pygments_lexer": "ipython3",
   "version": "3.9.7"
  }
 },
 "nbformat": 4,
 "nbformat_minor": 5
}
