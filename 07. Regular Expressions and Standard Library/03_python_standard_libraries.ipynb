{
 "cells": [
  {
   "cell_type": "markdown",
   "id": "5447a7eb",
   "metadata": {},
   "source": [
    "<!-- The Python Standard Library is a collection of modules that are included with the Python programming language. These modules provide a wide range of functionalities, making it easier for developers to accomplish common tasks without having to write code from scratch. Two commonly used modules from the Python Standard Library are datetime and math. Let's take a closer look at each of them:\n",
    "\n",
    "datetime module: The datetime module in Python provides classes for working with dates, times, and their combinations. It allows you to perform various operations like creating, manipulating, and formatting dates and times. Some important classes in the datetime module include:\n",
    "\n",
    "datetime: This class represents a date and time combination, including the year, month, day, hour, minute, second, and microsecond.\n",
    "date: This class represents a date (year, month, day) without the time.\n",
    "time: This class represents a time of day (hour, minute, second, microsecond) without the date.\n",
    "timedelta: This class represents the difference between two datetime objects, providing a way to perform arithmetic operations on dates and times. -->"
   ]
  },
  {
   "cell_type": "code",
   "execution_count": 1,
   "id": "eb99ff6d",
   "metadata": {},
   "outputs": [
    {
     "name": "stdout",
     "output_type": "stream",
     "text": [
      "Current date and time: 2023-06-28 12:45:59.952219\n",
      "Tomorrow's date: 2023-06-29\n",
      "Age in days: 12097\n"
     ]
    }
   ],
   "source": [
    "from datetime import datetime, timedelta\n",
    "\n",
    "now = datetime.now()\n",
    "print(\"Current date and time:\", now)\n",
    "\n",
    "tomorrow = now + timedelta(days=1)\n",
    "print(\"Tomorrow's date:\", tomorrow.date())\n",
    "\n",
    "birthday = datetime(1990, 5, 15)\n",
    "age = now - birthday\n",
    "print(\"Age in days:\", age.days)"
   ]
  },
  {
   "cell_type": "markdown",
   "id": "852d12ae",
   "metadata": {},
   "source": [
    "<!-- math module: The math module in Python provides a set of mathematical functions and constants for numerical operations. It includes functions for basic arithmetic, trigonometry, logarithms, exponentiation, rounding, and more. Some commonly used functions in the math module include:\n",
    "\n",
    "sqrt(): Calculates the square root of a number.\n",
    "sin(), cos(), tan(): Compute the sine, cosine, and tangent of an angle (in radians).\n",
    "log(), log10(), log2(): Calculate logarithms of a number with different bases.\n",
    "ceil(), floor(), round(): Perform rounding operations.\n",
    "pi, e: Mathematical constants for pi and Euler's number. -->"
   ]
  },
  {
   "cell_type": "code",
   "execution_count": 2,
   "id": "f10549f5",
   "metadata": {},
   "outputs": [
    {
     "name": "stdout",
     "output_type": "stream",
     "text": [
      "Square root: 1.9235384061671346\n",
      "Sine: -0.5298361409084934\n",
      "Logarithm (base 2): 1.8875252707415875\n",
      "Ceiling: 4\n",
      "Pi constant: 3.141592653589793\n"
     ]
    }
   ],
   "source": [
    "import math\n",
    "\n",
    "x = 3.7\n",
    "print(\"Square root:\", math.sqrt(x))\n",
    "print(\"Sine:\", math.sin(x))\n",
    "print(\"Logarithm (base 2):\", math.log2(x))\n",
    "print(\"Ceiling:\", math.ceil(x))\n",
    "print(\"Pi constant:\", math.pi)"
   ]
  },
  {
   "cell_type": "code",
   "execution_count": 3,
   "id": "8dd48f9c",
   "metadata": {},
   "outputs": [
    {
     "name": "stdout",
     "output_type": "stream",
     "text": [
      "Random number: 10\n",
      "Shuffled list: [3, 5, 2, 4, 1]\n",
      "Random character: o\n"
     ]
    }
   ],
   "source": [
    "# random module: The random module provides functions for generating pseudo-random numbers. It can be used for tasks like \n",
    "# shuffling sequences, generating random integers, selecting random elements, and more.\n",
    "\n",
    "# Example usage:\n",
    "    \n",
    "import random\n",
    "\n",
    "# Generate a random integer between 1 and 10\n",
    "random_number = random.randint(1, 10)\n",
    "print(\"Random number:\", random_number)\n",
    "\n",
    "# Shuffle a list\n",
    "my_list = [1, 2, 3, 4, 5]\n",
    "random.shuffle(my_list)\n",
    "print(\"Shuffled list:\", my_list)\n",
    "\n",
    "# Select a random element from a sequence\n",
    "my_string = \"Hello, World!\"\n",
    "random_char = random.choice(my_string)\n",
    "print(\"Random character:\", random_char)"
   ]
  },
  {
   "cell_type": "code",
   "execution_count": null,
   "id": "37bda027",
   "metadata": {},
   "outputs": [],
   "source": [
    "# os module: The os module provides a way to interact with the operating system. It allows you to perform tasks like working \n",
    "# with files and directories, executing system commands, obtaining information about the system, and more.\n",
    "\n",
    "# Example usage:\n",
    "\n",
    "import os\n",
    "\n",
    "# Get the current working directory\n",
    "cwd = os.getcwd()\n",
    "print(\"Current working directory:\", cwd)\n",
    "\n",
    "# List all files and directories in a directory\n",
    "directory = \"/path/to/directory\"\n",
    "contents = os.listdir(directory)\n",
    "print(\"Contents of\", directory, \":\", contents)\n",
    "\n",
    "# Execute a system command\n",
    "command = \"ls -l\"\n",
    "os.system(command)"
   ]
  }
 ],
 "metadata": {
  "kernelspec": {
   "display_name": "Python 3 (ipykernel)",
   "language": "python",
   "name": "python3"
  },
  "language_info": {
   "codemirror_mode": {
    "name": "ipython",
    "version": 3
   },
   "file_extension": ".py",
   "mimetype": "text/x-python",
   "name": "python",
   "nbconvert_exporter": "python",
   "pygments_lexer": "ipython3",
   "version": "3.9.7"
  }
 },
 "nbformat": 4,
 "nbformat_minor": 5
}
