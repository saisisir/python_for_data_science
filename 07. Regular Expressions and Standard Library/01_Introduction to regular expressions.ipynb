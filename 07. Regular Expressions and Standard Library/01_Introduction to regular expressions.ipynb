{
 "cells": [
  {
   "cell_type": "markdown",
   "id": "82b03cb6",
   "metadata": {},
   "source": [
    "<!-- Regular expressions, often abbreviated as regex, are powerful tools for pattern matching and manipulating strings. The Python programming language provides a built-in module called re that allows you to work with regular expressions.\n",
    "\n",
    "The re module in the Python standard library offers several functions for working with regular expressions, including:\n",
    "\n",
    "re.match(pattern, string): Attempts to match the pattern at the beginning of the string and returns a match object if successful.\n",
    "\n",
    "re.search(pattern, string): Searches the entire string for a match to the pattern and returns a match object if found.\n",
    "\n",
    "re.findall(pattern, string): Returns all non-overlapping matches of the pattern in the string as a list of strings.\n",
    "\n",
    "re.finditer(pattern, string): Returns an iterator yielding match objects for all non-overlapping matches of the pattern in the string.\n",
    "\n",
    "re.sub(pattern, repl, string): Searches for all occurrences of the pattern in the string and replaces them with the specified replacement string.\n",
    "\n",
    "These are just a few of the functions provided by the re module. The module also provides various flags and options to modify the behavior of regular expression matching.\n",
    "\n",
    "Here's a simple example that demonstrates the usage of regular expressions with the re module: -->"
   ]
  },
  {
   "cell_type": "code",
   "execution_count": 5,
   "id": "2ddda3c9",
   "metadata": {},
   "outputs": [
    {
     "name": "stdout",
     "output_type": "stream",
     "text": [
      "['info@example.com', 'support@example.org']\n"
     ]
    }
   ],
   "source": [
    "import re\n",
    "\n",
    "pattern = r'\\b[A-Za-z0-9._%+-]+@[A-Za-z0-9.-]+\\.[A-Za-z]{2,}\\b'  # Email pattern\n",
    "string = 'Contact us at info@example.com or support@example.org'\n",
    "\n",
    "matches = re.findall(pattern, string)\n",
    "print(matches)  # Output: ['info@example.com', 'support@example.org']"
   ]
  },
  {
   "cell_type": "code",
   "execution_count": 6,
   "id": "6ec6d944",
   "metadata": {},
   "outputs": [
    {
     "name": "stdout",
     "output_type": "stream",
     "text": [
      "['27-06-2023', '28-06-2023']\n"
     ]
    }
   ],
   "source": [
    "# Matching Dates:\n",
    "\n",
    "import re\n",
    "\n",
    "pattern = r'\\d{2}-\\d{2}-\\d{4}'  # Date pattern (DD-MM-YYYY)\n",
    "string = 'Today is 27-06-2023, and tomorrow is 28-06-2023.'\n",
    "\n",
    "matches = re.findall(pattern, string)\n",
    "print(matches)  # Output: ['27-06-2023', '28-06-2023']"
   ]
  },
  {
   "cell_type": "code",
   "execution_count": 10,
   "id": "1c1ada41",
   "metadata": {},
   "outputs": [
    {
     "name": "stdout",
     "output_type": "stream",
     "text": [
      "['#coding', '#programming', '#PythonIsAwesome']\n"
     ]
    }
   ],
   "source": [
    "# Extracting Hashtags:\n",
    "\n",
    "import re\n",
    "\n",
    "pattern = r'#\\w+'  # Hashtag pattern\n",
    "string = 'I love #coding and #programming! #PythonIsAwesome'\n",
    "\n",
    "matches = re.findall(pattern, string)\n",
    "print(matches)  # Output: ['#coding', '#programming', '#PythonIsAwesome']"
   ]
  },
  {
   "cell_type": "code",
   "execution_count": 11,
   "id": "3dc64b42",
   "metadata": {},
   "outputs": [
    {
     "name": "stdout",
     "output_type": "stream",
     "text": [
      "['Hello', 'world', 'How', 'are', 'you', '']\n"
     ]
    }
   ],
   "source": [
    "# Splitting Text:\n",
    "\n",
    "import re\n",
    "\n",
    "pattern = r'\\W+'  # Non-word characters pattern\n",
    "string = 'Hello, world! How are you?'\n",
    "\n",
    "words = re.split(pattern, string)\n",
    "print(words)  # Output: ['Hello', 'world', 'How', 'are', 'you']"
   ]
  },
  {
   "cell_type": "code",
   "execution_count": 12,
   "id": "37ecefa8",
   "metadata": {},
   "outputs": [
    {
     "name": "stdout",
     "output_type": "stream",
     "text": [
      "123-456-7890 is a valid phone number.\n",
      "555-5555 is not a valid phone number.\n",
      "123-456-78901 is not a valid phone number.\n"
     ]
    }
   ],
   "source": [
    "# Validating Phone Numbers:\n",
    "\n",
    "import re\n",
    "\n",
    "pattern = r'^\\d{3}-\\d{3}-\\d{4}$'  # Phone number pattern (###-###-####)\n",
    "\n",
    "phone_numbers = ['123-456-7890', '555-5555', '123-456-78901']\n",
    "\n",
    "for number in phone_numbers:\n",
    "    if re.match(pattern, number):\n",
    "        print(f\"{number} is a valid phone number.\")\n",
    "    else:\n",
    "        print(f\"{number} is not a valid phone number.\")"
   ]
  },
  {
   "cell_type": "code",
   "execution_count": 13,
   "id": "284ffdf7",
   "metadata": {},
   "outputs": [
    {
     "name": "stdout",
     "output_type": "stream",
     "text": [
      "['https://www.example.com', 'https://blog.example.com']\n"
     ]
    }
   ],
   "source": [
    "# Extracting URLs from Text:\n",
    "\n",
    "import re\n",
    "\n",
    "pattern = r'https?://(?:[-\\w.]|(?:%[\\da-fA-F]{2}))+'\n",
    "\n",
    "text = 'Visit my website at https://www.example.com or check out https://blog.example.com for more.'\n",
    "\n",
    "urls = re.findall(pattern, text)\n",
    "print(urls)  # Output: ['https://www.example.com', 'https://blog.example.com']"
   ]
  },
  {
   "cell_type": "code",
   "execution_count": 14,
   "id": "8caea568",
   "metadata": {},
   "outputs": [
    {
     "name": "stdout",
     "output_type": "stream",
     "text": [
      "Hello world How are you\n"
     ]
    }
   ],
   "source": [
    "# Removing Punctuation:\n",
    "\n",
    "import re\n",
    "\n",
    "pattern = r'[^\\w\\s]'\n",
    "\n",
    "text = 'Hello, world! How are you?'\n",
    "\n",
    "clean_text = re.sub(pattern, '', text)\n",
    "print(clean_text)  # Output: 'Hello world How are you'"
   ]
  }
 ],
 "metadata": {
  "kernelspec": {
   "display_name": "Python 3 (ipykernel)",
   "language": "python",
   "name": "python3"
  },
  "language_info": {
   "codemirror_mode": {
    "name": "ipython",
    "version": 3
   },
   "file_extension": ".py",
   "mimetype": "text/x-python",
   "name": "python",
   "nbconvert_exporter": "python",
   "pygments_lexer": "ipython3",
   "version": "3.9.7"
  }
 },
 "nbformat": 4,
 "nbformat_minor": 5
}
