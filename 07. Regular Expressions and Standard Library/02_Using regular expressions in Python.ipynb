{
 "cells": [
  {
   "cell_type": "code",
   "execution_count": 1,
   "id": "72f6ed48",
   "metadata": {},
   "outputs": [],
   "source": [
    "# Regular expressions, often referred to as regex or regexp, are a powerful tool for pattern matching and manipulation of\n",
    "# text data. Python provides a built-in module called re that allows you to work with regular expressions. Here's an overview \n",
    "# of how to use regular expressions in Python:\n",
    "\n",
    "#import the re module\n",
    "import re"
   ]
  },
  {
   "cell_type": "code",
   "execution_count": 2,
   "id": "3c6ab074",
   "metadata": {},
   "outputs": [],
   "source": [
    "# Creating a regular expression pattern:\n",
    "# A regular expression pattern is a string that defines the search pattern. You can use various characters and symbols to \n",
    "# create patterns. For example, the pattern r'\\d+' matches one or more digits.\n",
    "\n",
    "pattern = r'\\d+'"
   ]
  },
  {
   "cell_type": "markdown",
   "id": "bca36a09",
   "metadata": {},
   "source": [
    "<!-- Performing pattern matching:\n",
    "The re module provides several functions for pattern matching. The most commonly used functions are re.search(), re.match(), re.findall(), and re.sub(). Here are some examples:\n",
    "re.search(pattern, string): Searches the string for a match to the pattern and returns a match object if found. -->\n",
    "\n",
    "import re\n",
    "\n",
    "string = \"I have 10 apples.\"\n",
    "pattern = r'\\d+'\n",
    "\n",
    "match = re.search(pattern, string)\n",
    "if match:\n",
    "    print(\"Match found:\", match.group())\n",
    "else:\n",
    "    print(\"No match found.\")"
   ]
  },
  {
   "cell_type": "code",
   "execution_count": 1,
   "id": "9fbd2e67",
   "metadata": {},
   "outputs": [
    {
     "name": "stdout",
     "output_type": "stream",
     "text": [
      "Match found: 10\n"
     ]
    }
   ],
   "source": [
    "# Performing pattern matching:\n",
    "# The re module provides several functions for pattern matching. The most commonly used functions are re.search(), re.match(), \n",
    "# re.findall(), and re.sub(). \n",
    "\n",
    "# Here are some examples:    \n",
    "# re.search(pattern, string): Searches the string for a match to the pattern and returns a match object if found.\n",
    "    \n",
    "import re\n",
    "\n",
    "string = \"I have 10 apples.\"\n",
    "pattern = r'\\d+'\n",
    "\n",
    "match = re.search(pattern, string)\n",
    "if match:\n",
    "    print(\"Match found:\", match.group())\n",
    "else:\n",
    "    print(\"No match found.\")"
   ]
  },
  {
   "cell_type": "code",
   "execution_count": 2,
   "id": "5942c328",
   "metadata": {},
   "outputs": [
    {
     "name": "stdout",
     "output_type": "stream",
     "text": [
      "Match found: 10\n"
     ]
    }
   ],
   "source": [
    "# re.match(pattern, string): Checks if the pattern matches at the beginning of the string and returns a match object if found.\n",
    "    \n",
    "import re\n",
    "\n",
    "string = \"10 apples are good for health.\"\n",
    "pattern = r'\\d+'\n",
    "\n",
    "match = re.match(pattern, string)\n",
    "if match:\n",
    "    print(\"Match found:\", match.group())\n",
    "else:\n",
    "    print(\"No match found.\")"
   ]
  },
  {
   "cell_type": "code",
   "execution_count": 3,
   "id": "722b654a",
   "metadata": {},
   "outputs": [
    {
     "name": "stdout",
     "output_type": "stream",
     "text": [
      "Matches found: ['10', '5']\n"
     ]
    }
   ],
   "source": [
    "# re.findall(pattern, string): Returns all non-overlapping matches of the pattern in the string as a list.\n",
    "\n",
    "import re\n",
    "\n",
    "string = \"I have 10 apples and 5 oranges.\"\n",
    "pattern = r'\\d+'\n",
    "\n",
    "matches = re.findall(pattern, string)\n",
    "print(\"Matches found:\", matches)"
   ]
  },
  {
   "cell_type": "code",
   "execution_count": 4,
   "id": "51748e71",
   "metadata": {},
   "outputs": [
    {
     "name": "stdout",
     "output_type": "stream",
     "text": [
      "Modified string: I have some apples and some oranges.\n"
     ]
    }
   ],
   "source": [
    "# re.sub(pattern, replacement, string): Replaces all occurrences of the pattern in the string with the replacement string\n",
    "# and returns the modified string.\n",
    "\n",
    "import re\n",
    "\n",
    "string = \"I have 10 apples and 5 oranges.\"\n",
    "pattern = r'\\d+'\n",
    "replacement = \"some\"\n",
    "\n",
    "new_string = re.sub(pattern, replacement, string)\n",
    "print(\"Modified string:\", new_string)"
   ]
  },
  {
   "cell_type": "code",
   "execution_count": 6,
   "id": "5b500609",
   "metadata": {},
   "outputs": [
    {
     "name": "stdout",
     "output_type": "stream",
     "text": [
      "Sentences: ['This is the first sentence.', 'And this is the second one!', 'Finally, the third?']\n"
     ]
    }
   ],
   "source": [
    "# Splitting text into sentences:\n",
    "\n",
    "import re\n",
    "\n",
    "text = \"This is the first sentence. And this is the second one! Finally, the third?\"\n",
    "pattern = r'(?<!\\w\\.\\w.)(?<![A-Z][a-z]\\.)(?<=\\.|\\?|\\!)\\s'\n",
    "\n",
    "sentences = re.split(pattern, text)\n",
    "print(\"Sentences:\", sentences)"
   ]
  },
  {
   "cell_type": "code",
   "execution_count": 7,
   "id": "cad535b1",
   "metadata": {},
   "outputs": [
    {
     "name": "stdout",
     "output_type": "stream",
     "text": [
      "Tag: div\n",
      "Content: <p>This is a paragraph.</p><a href='example.com'>Link</a>\n"
     ]
    }
   ],
   "source": [
    "# Extracting HTML tags:\n",
    "\n",
    "import re\n",
    "\n",
    "html = \"<div><p>This is a paragraph.</p><a href='example.com'>Link</a></div>\"\n",
    "pattern = r'<(\\w+)[^>]*>(.*?)</\\1>'\n",
    "\n",
    "matches = re.findall(pattern, html)\n",
    "for tag, content in matches:\n",
    "    print(\"Tag:\", tag)\n",
    "    print(\"Content:\", content)"
   ]
  }
 ],
 "metadata": {
  "kernelspec": {
   "display_name": "Python 3 (ipykernel)",
   "language": "python",
   "name": "python3"
  },
  "language_info": {
   "codemirror_mode": {
    "name": "ipython",
    "version": 3
   },
   "file_extension": ".py",
   "mimetype": "text/x-python",
   "name": "python",
   "nbconvert_exporter": "python",
   "pygments_lexer": "ipython3",
   "version": "3.9.7"
  }
 },
 "nbformat": 4,
 "nbformat_minor": 5
}
