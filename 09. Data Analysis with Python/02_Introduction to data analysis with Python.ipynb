{
 "cells": [
  {
   "cell_type": "markdown",
   "id": "bf5d5aac",
   "metadata": {},
   "source": [
    "<!-- Data analysis is a crucial skill in today's world, where vast amounts of data are generated and collected across various domains. Python, with its rich ecosystem of libraries and tools, has become one of the most popular programming languages for data analysis. In this introduction, we will explore the basics of data analysis using Python.\n",
    "\n",
    "Installing Python and Required Libraries:\n",
    "To get started, you need to install Python on your system. You can download and install the latest version of Python from the official website (python.org). Additionally, Python offers several powerful libraries for data analysis, such as NumPy, Pandas, and Matplotlib. You can install these libraries using the Python package manager, pip. -->"
   ]
  },
  {
   "cell_type": "code",
   "execution_count": 1,
   "id": "47314534",
   "metadata": {},
   "outputs": [],
   "source": [
    "# Importing Libraries:\n",
    "\n",
    "# Once you have installed the required libraries, you can import them into your Python script or Jupyter Notebook. Here's an \n",
    "# example of how to import NumPy, Pandas, and Matplotlib:\n",
    "    \n",
    "import numpy as np\n",
    "import pandas as pd\n",
    "import matplotlib.pyplot as plt"
   ]
  },
  {
   "cell_type": "code",
   "execution_count": 5,
   "id": "18960562",
   "metadata": {},
   "outputs": [],
   "source": [
    "# Loading Data:\n",
    "\n",
    "# Data analysis typically begins with loading data into Python. Pandas provides efficient data structures, such as DataFrames, \n",
    "# for handling and analyzing structured data. You can read data from various sources like CSV files, Excel files, databases, \n",
    "# etc. Here's an example of loading a CSV file using Pandas:\n",
    "\n",
    "data = pd.read_csv(r'C:\\Users\\sisir.sahu\\Documents\\GitHub\\Python for Data science\\Data Analysis in Python\\IPL Matches 2008-2020.csv')"
   ]
  },
  {
   "cell_type": "code",
   "execution_count": 8,
   "id": "e34ff305",
   "metadata": {},
   "outputs": [
    {
     "name": "stdout",
     "output_type": "stream",
     "text": [
      "       id        city        date player_of_match  \\\n",
      "0  335982   Bangalore  2008-04-18     BB McCullum   \n",
      "1  335983  Chandigarh  2008-04-19      MEK Hussey   \n",
      "2  335984       Delhi  2008-04-19     MF Maharoof   \n",
      "3  335985      Mumbai  2008-04-20      MV Boucher   \n",
      "4  335986     Kolkata  2008-04-20       DJ Hussey   \n",
      "\n",
      "                                        venue  neutral_venue  \\\n",
      "0                       M Chinnaswamy Stadium              0   \n",
      "1  Punjab Cricket Association Stadium, Mohali              0   \n",
      "2                            Feroz Shah Kotla              0   \n",
      "3                            Wankhede Stadium              0   \n",
      "4                                Eden Gardens              0   \n",
      "\n",
      "                         team1                        team2  \\\n",
      "0  Royal Challengers Bangalore        Kolkata Knight Riders   \n",
      "1              Kings XI Punjab          Chennai Super Kings   \n",
      "2             Delhi Daredevils             Rajasthan Royals   \n",
      "3               Mumbai Indians  Royal Challengers Bangalore   \n",
      "4        Kolkata Knight Riders              Deccan Chargers   \n",
      "\n",
      "                   toss_winner toss_decision                       winner  \\\n",
      "0  Royal Challengers Bangalore         field        Kolkata Knight Riders   \n",
      "1          Chennai Super Kings           bat          Chennai Super Kings   \n",
      "2             Rajasthan Royals           bat             Delhi Daredevils   \n",
      "3               Mumbai Indians           bat  Royal Challengers Bangalore   \n",
      "4              Deccan Chargers           bat        Kolkata Knight Riders   \n",
      "\n",
      "    result  result_margin eliminator method    umpire1         umpire2  \n",
      "0     runs          140.0          N    NaN  Asad Rauf     RE Koertzen  \n",
      "1     runs           33.0          N    NaN  MR Benson      SL Shastri  \n",
      "2  wickets            9.0          N    NaN  Aleem Dar  GA Pratapkumar  \n",
      "3  wickets            5.0          N    NaN   SJ Davis       DJ Harper  \n",
      "4  wickets            5.0          N    NaN  BF Bowden     K Hariharan  \n"
     ]
    }
   ],
   "source": [
    "# Exploring the Data:\n",
    "\n",
    "# After loading the data, it's essential to understand its structure and contents. Pandas offers several functions for exploring \n",
    "# the data, such as head(), info(), describe(), and shape. These functions provide insights into the data's dimensions, data \n",
    "# types, summary statistics, and a preview of the first few rows.\n",
    "\n",
    "print(data.head())       # Preview the first few rows"
   ]
  },
  {
   "cell_type": "code",
   "execution_count": 9,
   "id": "c54fddbe",
   "metadata": {},
   "outputs": [
    {
     "name": "stdout",
     "output_type": "stream",
     "text": [
      "<class 'pandas.core.frame.DataFrame'>\n",
      "RangeIndex: 816 entries, 0 to 815\n",
      "Data columns (total 17 columns):\n",
      " #   Column           Non-Null Count  Dtype  \n",
      "---  ------           --------------  -----  \n",
      " 0   id               816 non-null    int64  \n",
      " 1   city             803 non-null    object \n",
      " 2   date             816 non-null    object \n",
      " 3   player_of_match  812 non-null    object \n",
      " 4   venue            816 non-null    object \n",
      " 5   neutral_venue    816 non-null    int64  \n",
      " 6   team1            816 non-null    object \n",
      " 7   team2            816 non-null    object \n",
      " 8   toss_winner      816 non-null    object \n",
      " 9   toss_decision    816 non-null    object \n",
      " 10  winner           812 non-null    object \n",
      " 11  result           812 non-null    object \n",
      " 12  result_margin    799 non-null    float64\n",
      " 13  eliminator       812 non-null    object \n",
      " 14  method           19 non-null     object \n",
      " 15  umpire1          816 non-null    object \n",
      " 16  umpire2          816 non-null    object \n",
      "dtypes: float64(1), int64(2), object(14)\n",
      "memory usage: 108.5+ KB\n",
      "None\n"
     ]
    }
   ],
   "source": [
    "print(data.info())       # Get information about the data"
   ]
  },
  {
   "cell_type": "code",
   "execution_count": 10,
   "id": "64a91441",
   "metadata": {},
   "outputs": [
    {
     "name": "stdout",
     "output_type": "stream",
     "text": [
      "                 id  neutral_venue  result_margin\n",
      "count  8.160000e+02     816.000000     799.000000\n",
      "mean   7.563496e+05       0.094363      17.321652\n",
      "std    3.058943e+05       0.292512      22.068427\n",
      "min    3.359820e+05       0.000000       1.000000\n",
      "25%    5.012278e+05       0.000000       6.000000\n",
      "50%    7.292980e+05       0.000000       8.000000\n",
      "75%    1.082626e+06       0.000000      19.500000\n",
      "max    1.237181e+06       1.000000     146.000000\n"
     ]
    }
   ],
   "source": [
    "print(data.describe())   # Summary statistics of the data"
   ]
  },
  {
   "cell_type": "code",
   "execution_count": 11,
   "id": "f7d4f7f6",
   "metadata": {},
   "outputs": [
    {
     "name": "stdout",
     "output_type": "stream",
     "text": [
      "(816, 17)\n"
     ]
    }
   ],
   "source": [
    "print(data.shape)        # Dimensions of the data (rows, columns)"
   ]
  },
  {
   "cell_type": "code",
   "execution_count": null,
   "id": "da17c701",
   "metadata": {},
   "outputs": [],
   "source": [
    "# Data Cleaning and Preprocessing:\n",
    "\n",
    "# Data often requires cleaning and preprocessing before analysis. Pandas offers numerous functionalities for handling missing \n",
    "# data, removing duplicates, transforming data types, and more. Some common operations include dropna(), fillna(), \n",
    "# drop_duplicates(), and astype()."
   ]
  },
  {
   "cell_type": "code",
   "execution_count": null,
   "id": "34ef4f1a",
   "metadata": {},
   "outputs": [],
   "source": [
    "# Data Visualization:\n",
    "\n",
    "# Visualizing data helps in understanding patterns, trends, and relationships. Matplotlib is a popular library for creating \n",
    "# various types of plots, such as line plots, bar plots, scatter plots, histograms, etc. Here's an example of creating a line\n",
    "# plot using Matplotlib:\n",
    "    \n",
    "plt.plot(data['x'], data['y'])\n",
    "plt.xlabel('x')\n",
    "plt.ylabel('y')\n",
    "plt.title('Line Plot')\n",
    "plt.show()"
   ]
  },
  {
   "cell_type": "code",
   "execution_count": null,
   "id": "a53a7e1f",
   "metadata": {},
   "outputs": [],
   "source": [
    "# Data Analysis and Manipulation:\n",
    "\n",
    "# Pandas provides powerful tools for data analysis and manipulation. You can filter data, perform aggregations, sort and rank \n",
    "# data, apply mathematical operations, merge datasets, and more. These operations allow you to extract valuable insights from \n",
    "# the data efficiently."
   ]
  },
  {
   "cell_type": "code",
   "execution_count": null,
   "id": "263da12d",
   "metadata": {},
   "outputs": [],
   "source": [
    "# Statistical Analysis and Machine Learning:\n",
    "    \n",
    "# Python offers a wide range of statistical analysis and machine learning libraries, such as SciPy, scikit-learn, and \n",
    "# StatsModels. These libraries provide functions for hypothesis testing, regression analysis, clustering, classification, \n",
    "# and other advanced analytical tasks."
   ]
  },
  {
   "cell_type": "code",
   "execution_count": null,
   "id": "8c8cf7f5",
   "metadata": {},
   "outputs": [],
   "source": [
    "# Data Filtering and Selection:\n",
    "    \n",
    "# Pandas allows you to filter and select specific subsets of data based on certain conditions. Here's an example that filters \n",
    "# a DataFrame to include only rows where a specific column meets a certain criteria:\n",
    "    \n",
    "filtered_data = data[data['column'] > 10]"
   ]
  },
  {
   "cell_type": "code",
   "execution_count": null,
   "id": "a6a6987d",
   "metadata": {},
   "outputs": [],
   "source": [
    "# Data Aggregation:\n",
    "    \n",
    "# Aggregating data involves grouping rows based on a specific column and computing summary statistics. Pandas provides the \n",
    "# groupby() function for this purpose. Here's an example that groups a DataFrame by a categorical variable and calculates the \n",
    "# mean of a numeric column:\n",
    "\n",
    "grouped_data = data.groupby('category')['numeric_column'].mean()"
   ]
  },
  {
   "cell_type": "code",
   "execution_count": null,
   "id": "185273b9",
   "metadata": {},
   "outputs": [],
   "source": [
    "# Data Visualization with Seaborn:\n",
    "    \n",
    "# Seaborn is a Python library built on top of Matplotlib that provides high-level statistical data visualization capabilities. \n",
    "# Here's an example of creating a scatter plot with a regression line using Seaborn:\n",
    "\n",
    "import seaborn as sns\n",
    "\n",
    "sns.scatterplot(x='x', y='y', data=data)\n",
    "sns.regplot(x='x', y='y', data=data, scatter=False)\n",
    "plt.xlabel('x')\n",
    "plt.ylabel('y')\n",
    "plt.title('Scatter Plot with Regression Line')\n",
    "plt.show()"
   ]
  },
  {
   "cell_type": "code",
   "execution_count": 13,
   "id": "db44941b",
   "metadata": {},
   "outputs": [],
   "source": [
    "# Handling Time Series Data:\n",
    "    \n",
    "# Python has dedicated libraries like Pandas and NumPy for handling time series data. Here's an example of resampling time \n",
    "# series data to a lower frequency (e.g., converting daily data to monthly data) using Pandas:\n",
    "\n",
    "# Assuming 'date' is a column representing dates in the DataFrame\n",
    "data['date'] = pd.to_datetime(data['date'])\n",
    "data_resampled = data.resample('M', on='date').sum()"
   ]
  },
  {
   "cell_type": "code",
   "execution_count": null,
   "id": "09075756",
   "metadata": {},
   "outputs": [],
   "source": [
    "# Machine Learning - Linear Regression:\n",
    "    \n",
    "# Scikit-learn is a powerful library for machine learning in Python. Here's an example of performing linear regression on a \n",
    "# dataset using scikit-learn:\n",
    "    \n",
    "from sklearn.linear_model import LinearRegression\n",
    "\n",
    "X = data[['feature1', 'feature2']]  # Input features\n",
    "y = data['target']                  # Target variable\n",
    "\n",
    "model = LinearRegression()\n",
    "model.fit(X, y)\n",
    "\n",
    "# Predicting on new data\n",
    "new_data = pd.DataFrame({'feature1': [1, 2, 3], 'feature2': [4, 5, 6]})\n",
    "predictions = model.predict(new_data)"
   ]
  }
 ],
 "metadata": {
  "kernelspec": {
   "display_name": "Python 3 (ipykernel)",
   "language": "python",
   "name": "python3"
  },
  "language_info": {
   "codemirror_mode": {
    "name": "ipython",
    "version": 3
   },
   "file_extension": ".py",
   "mimetype": "text/x-python",
   "name": "python",
   "nbconvert_exporter": "python",
   "pygments_lexer": "ipython3",
   "version": "3.9.7"
  }
 },
 "nbformat": 4,
 "nbformat_minor": 5
}
