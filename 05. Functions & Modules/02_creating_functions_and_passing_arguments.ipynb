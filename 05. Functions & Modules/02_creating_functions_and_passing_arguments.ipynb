{
 "cells": [
  {
   "cell_type": "markdown",
   "id": "c83ef500",
   "metadata": {},
   "source": [
    "<!-- In Python, you can create functions using the def keyword and pass arguments to those functions. Here's the basic syntax for defining a function and passing arguments: -->"
   ]
  },
  {
   "cell_type": "markdown",
   "id": "68eb8579",
   "metadata": {},
   "source": [
    "<!-- In Python, you can create functions using the def keyword and pass arguments to those functions. Here's the basic syntax for defining a function and passing arguments: \n",
    "\n",
    "def function_name(arg1, arg2, ...):\n",
    "    # Function body\n",
    "    # Code to be executed\n",
    "\n",
    "# Function call\n",
    "function_name(value1, value2, ...) \n",
    "\n",
    "Let's break down the different components:\n",
    "\n",
    "def: This keyword is used to define a function in Python.\n",
    "function_name: This is the name you give to your function. Choose a descriptive name that reflects the purpose of the function.\n",
    "arg1, arg2, ...: These are the arguments (also called parameters) that you want to pass to the function. You can specify as many arguments as needed, separated by commas.\n",
    "value1, value2, ...: When you call the function, you provide actual values (also called arguments) that correspond to the function's parameters. These values are passed to the function and can be used within the function body. -->"
   ]
  },
  {
   "cell_type": "code",
   "execution_count": 3,
   "id": "1921452e",
   "metadata": {},
   "outputs": [
    {
     "name": "stdout",
     "output_type": "stream",
     "text": [
      "Hello, Alice!\n"
     ]
    }
   ],
   "source": [
    "def greet(name):\n",
    "    print(\"Hello, \" + name + \"!\")\n",
    "\n",
    "# Function call\n",
    "greet(\"Alice\")"
   ]
  },
  {
   "cell_type": "code",
   "execution_count": 4,
   "id": "ab784bc9",
   "metadata": {},
   "outputs": [
    {
     "name": "stdout",
     "output_type": "stream",
     "text": [
      "The sum of 3 and 4 is 7\n"
     ]
    }
   ],
   "source": [
    "# Function with multiple arguments:\n",
    "\n",
    "def add_numbers(a, b):\n",
    "    sum = a + b\n",
    "    print(\"The sum of\", a, \"and\", b, \"is\", sum)\n",
    "\n",
    "# Function call\n",
    "add_numbers(3, 4)"
   ]
  },
  {
   "cell_type": "code",
   "execution_count": 5,
   "id": "07fc3aba",
   "metadata": {},
   "outputs": [
    {
     "name": "stdout",
     "output_type": "stream",
     "text": [
      "Hello, Alice!\n",
      "Hi, Bob!\n"
     ]
    }
   ],
   "source": [
    "# Function with an optional argument:\n",
    "\n",
    "def greet(name, greeting=\"Hello\"):\n",
    "    print(greeting + \", \" + name + \"!\")\n",
    "\n",
    "# Function calls\n",
    "greet(\"Alice\")  # Uses the default greeting \"Hello\"\n",
    "greet(\"Bob\", \"Hi\")  # Uses the provided greeting \"Hi\""
   ]
  },
  {
   "cell_type": "code",
   "execution_count": 6,
   "id": "5f6a6307",
   "metadata": {},
   "outputs": [
    {
     "name": "stdout",
     "output_type": "stream",
     "text": [
      "The average is 4.0\n",
      "The average is 5.0\n"
     ]
    }
   ],
   "source": [
    "# Function with variable-length arguments:\n",
    "\n",
    "def calculate_average(*numbers):\n",
    "    count = len(numbers)\n",
    "    total = sum(numbers)\n",
    "    average = total / count\n",
    "    print(\"The average is\", average)\n",
    "\n",
    "# Function calls\n",
    "calculate_average(2, 4, 6)  # Passes three numbers\n",
    "calculate_average(1, 3, 5, 7, 9)  # Passes five numbers"
   ]
  },
  {
   "cell_type": "code",
   "execution_count": 7,
   "id": "353f7e74",
   "metadata": {},
   "outputs": [
    {
     "name": "stdout",
     "output_type": "stream",
     "text": [
      "The result is: 12\n"
     ]
    }
   ],
   "source": [
    "# Function with a return value:\n",
    "\n",
    "def multiply(a, b):\n",
    "    product = a * b\n",
    "    return product\n",
    "\n",
    "# Function call\n",
    "result = multiply(3, 4)\n",
    "print(\"The result is:\", result)"
   ]
  },
  {
   "cell_type": "code",
   "execution_count": 8,
   "id": "2fbb7b1d",
   "metadata": {},
   "outputs": [
    {
     "name": "stdout",
     "output_type": "stream",
     "text": [
      "The result is: 4\n",
      "The result is: 81\n"
     ]
    }
   ],
   "source": [
    "# Function with a default argument:\n",
    "\n",
    "def power(base, exponent=2):\n",
    "    result = base ** exponent\n",
    "    print(\"The result is:\", result)\n",
    "\n",
    "# Function calls\n",
    "power(2)  # Uses the default exponent of 2\n",
    "power(3, 4)  # Uses the provided exponent of 4"
   ]
  },
  {
   "cell_type": "code",
   "execution_count": 9,
   "id": "fd36eb6d",
   "metadata": {},
   "outputs": [
    {
     "name": "stdout",
     "output_type": "stream",
     "text": [
      "Name: Alice\n",
      "Age: 25\n",
      "City: New York\n"
     ]
    }
   ],
   "source": [
    "# Function with keyword arguments:\n",
    "\n",
    "def print_info(name, age, city):\n",
    "    print(\"Name:\", name)\n",
    "    print(\"Age:\", age)\n",
    "    print(\"City:\", city)\n",
    "\n",
    "# Function call with keyword arguments\n",
    "print_info(name=\"Alice\", age=25, city=\"New York\")"
   ]
  },
  {
   "cell_type": "code",
   "execution_count": 10,
   "id": "d02f9964",
   "metadata": {},
   "outputs": [
    {
     "name": "stdout",
     "output_type": "stream",
     "text": [
      "Hello, Alice! You are 25 years old.\n"
     ]
    }
   ],
   "source": [
    "# Positional arguments:\n",
    "\n",
    "def greet(name, age):\n",
    "    print(\"Hello, \" + name + \"! You are \" + str(age) + \" years old.\")\n",
    "\n",
    "# Function call with positional arguments\n",
    "greet(\"Alice\", 25)"
   ]
  },
  {
   "cell_type": "code",
   "execution_count": 12,
   "id": "67a166ee",
   "metadata": {},
   "outputs": [
    {
     "name": "stdout",
     "output_type": "stream",
     "text": [
      "Hello, Bob! You are 30 years old.\n"
     ]
    }
   ],
   "source": [
    "# Keyword arguments:\n",
    "\n",
    "def greet(name, age):\n",
    "    print(\"Hello, \" + name + \"! You are \" + str(age) + \" years old.\")\n",
    "\n",
    "# Function call with keyword arguments\n",
    "greet(name=\"Bob\", age=30)"
   ]
  },
  {
   "cell_type": "code",
   "execution_count": 13,
   "id": "f669542a",
   "metadata": {},
   "outputs": [
    {
     "name": "stdout",
     "output_type": "stream",
     "text": [
      "Hello, Charlie! You are 35 years old.\n"
     ]
    }
   ],
   "source": [
    "# Mixed positional and keyword arguments:\n",
    "\n",
    "def greet(name, age):\n",
    "    print(\"Hello, \" + name + \"! You are \" + str(age) + \" years old.\")\n",
    "\n",
    "# Function call with a mix of positional and keyword arguments\n",
    "greet(\"Charlie\", age=35)"
   ]
  },
  {
   "cell_type": "code",
   "execution_count": 14,
   "id": "169809ad",
   "metadata": {},
   "outputs": [
    {
     "name": "stdout",
     "output_type": "stream",
     "text": [
      "Hello, David! You are 40 years old.\n"
     ]
    }
   ],
   "source": [
    "# Unpacking arguments:\n",
    "\n",
    "def greet(name, age):\n",
    "    print(\"Hello, \" + name + \"! You are \" + str(age) + \" years old.\")\n",
    "\n",
    "# Function call with unpacking arguments\n",
    "person = (\"David\", 40)\n",
    "greet(*person)"
   ]
  }
 ],
 "metadata": {
  "kernelspec": {
   "display_name": "Python 3 (ipykernel)",
   "language": "python",
   "name": "python3"
  },
  "language_info": {
   "codemirror_mode": {
    "name": "ipython",
    "version": 3
   },
   "file_extension": ".py",
   "mimetype": "text/x-python",
   "name": "python",
   "nbconvert_exporter": "python",
   "pygments_lexer": "ipython3",
   "version": "3.9.7"
  }
 },
 "nbformat": 4,
 "nbformat_minor": 5
}
