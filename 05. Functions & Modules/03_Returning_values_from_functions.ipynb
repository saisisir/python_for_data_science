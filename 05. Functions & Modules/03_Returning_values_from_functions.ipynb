{
 "cells": [
  {
   "cell_type": "code",
   "execution_count": 1,
   "id": "b9b82c9f",
   "metadata": {},
   "outputs": [
    {
     "name": "stdout",
     "output_type": "stream",
     "text": [
      "The result is: 7\n"
     ]
    }
   ],
   "source": [
    "def add_numbers(a, b):\n",
    "    sum = a + b\n",
    "    return sum\n",
    "\n",
    "# Function call and value assignment\n",
    "result = add_numbers(3, 4)\n",
    "print(\"The result is:\", result)"
   ]
  },
  {
   "cell_type": "code",
   "execution_count": 2,
   "id": "a0977b45",
   "metadata": {},
   "outputs": [
    {
     "name": "stdout",
     "output_type": "stream",
     "text": [
      "The numbers are: [1, 2, 3, 4, 5]\n"
     ]
    }
   ],
   "source": [
    "def get_numbers():\n",
    "    numbers = [1, 2, 3, 4, 5]\n",
    "    return numbers\n",
    "\n",
    "# Function call and value assignment\n",
    "result = get_numbers()\n",
    "print(\"The numbers are:\", result)"
   ]
  },
  {
   "cell_type": "code",
   "execution_count": 3,
   "id": "f11ae38a",
   "metadata": {},
   "outputs": [
    {
     "name": "stdout",
     "output_type": "stream",
     "text": [
      "Total: 15\n",
      "Average: 3.0\n"
     ]
    }
   ],
   "source": [
    "def calculate_stats(numbers):\n",
    "    total = sum(numbers)\n",
    "    average = total / len(numbers)\n",
    "    return total, average\n",
    "\n",
    "# Function call and value assignment\n",
    "result1, result2 = calculate_stats([1, 2, 3, 4, 5])\n",
    "print(\"Total:\", result1)\n",
    "print(\"Average:\", result2)"
   ]
  },
  {
   "cell_type": "code",
   "execution_count": 4,
   "id": "425c68d2",
   "metadata": {},
   "outputs": [
    {
     "name": "stdout",
     "output_type": "stream",
     "text": [
      "Hello, Alice!\n"
     ]
    }
   ],
   "source": [
    "def create_greeting(name):\n",
    "    greeting = \"Hello, \" + name + \"!\"\n",
    "    return greeting\n",
    "\n",
    "# Function call and value assignment\n",
    "message = create_greeting(\"Alice\")\n",
    "print(message)"
   ]
  },
  {
   "cell_type": "code",
   "execution_count": 5,
   "id": "4af2bfde",
   "metadata": {},
   "outputs": [
    {
     "name": "stdout",
     "output_type": "stream",
     "text": [
      "Is even: True\n"
     ]
    }
   ],
   "source": [
    "def is_even(number):\n",
    "    if number % 2 == 0:\n",
    "        return True\n",
    "    else:\n",
    "        return False\n",
    "\n",
    "# Function call and value assignment\n",
    "result = is_even(4)\n",
    "print(\"Is even:\", result)"
   ]
  },
  {
   "cell_type": "code",
   "execution_count": 6,
   "id": "18862299",
   "metadata": {},
   "outputs": [
    {
     "name": "stdout",
     "output_type": "stream",
     "text": [
      "Even numbers: [2, 4, 6, 8, 10]\n"
     ]
    }
   ],
   "source": [
    "# Returning a list \n",
    "\n",
    "def get_even_numbers(limit):\n",
    "    numbers = []\n",
    "    for i in range(1, limit + 1):\n",
    "        if i % 2 == 0:\n",
    "            numbers.append(i)\n",
    "    return numbers\n",
    "\n",
    "# Function call and value assignment\n",
    "even_nums = get_even_numbers(10)\n",
    "print(\"Even numbers:\", even_nums)"
   ]
  }
 ],
 "metadata": {
  "kernelspec": {
   "display_name": "Python 3 (ipykernel)",
   "language": "python",
   "name": "python3"
  },
  "language_info": {
   "codemirror_mode": {
    "name": "ipython",
    "version": 3
   },
   "file_extension": ".py",
   "mimetype": "text/x-python",
   "name": "python",
   "nbconvert_exporter": "python",
   "pygments_lexer": "ipython3",
   "version": "3.9.7"
  }
 },
 "nbformat": 4,
 "nbformat_minor": 5
}
