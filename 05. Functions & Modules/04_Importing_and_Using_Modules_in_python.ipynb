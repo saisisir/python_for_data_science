{
 "cells": [
  {
   "cell_type": "markdown",
   "id": "45225d28",
   "metadata": {},
   "source": [
    "<!-- In Python, modules are files that contain Python code, which can be imported and used in other Python programs. Modules provide a way to organize and reuse code, making it easier to manage large projects and collaborate with other developers. Here's how you can import and use modules in Python: \n",
    "\n",
    "Importing a Module:\n",
    "To import a module, you can use the import keyword followed by the module name. For example, let's say you have a module called math that provides mathematical functions. You can import it like this:\n",
    "\n",
    "import math -->"
   ]
  },
  {
   "cell_type": "code",
   "execution_count": 1,
   "id": "8aa2c10b",
   "metadata": {},
   "outputs": [
    {
     "name": "stdout",
     "output_type": "stream",
     "text": [
      "4.0\n"
     ]
    }
   ],
   "source": [
    "# Using Functions/Attributes from a Module:\n",
    "\n",
    "import math\n",
    "\n",
    "result = math.sqrt(16)\n",
    "print(result)  # Output: 4.0"
   ]
  },
  {
   "cell_type": "code",
   "execution_count": 5,
   "id": "2409ee54",
   "metadata": {},
   "outputs": [
    {
     "name": "stdout",
     "output_type": "stream",
     "text": [
      "5.0\n",
      "3.141592653589793\n"
     ]
    }
   ],
   "source": [
    "# Importing Specific Functions/Attributes:\n",
    "# If you only need a few specific functions or attributes from a module, you can import them individually using the from \n",
    "# keyword. This way, you don't have to use the module name to access them. For example:\n",
    "\n",
    "from math import sqrt, pi\n",
    "\n",
    "result = sqrt(25)\n",
    "print(result)  # Output: 5.0\n",
    "\n",
    "print(pi)  # Output: 3.141592653589793"
   ]
  },
  {
   "cell_type": "code",
   "execution_count": 6,
   "id": "884c0fbd",
   "metadata": {},
   "outputs": [
    {
     "name": "stdout",
     "output_type": "stream",
     "text": [
      "3\n"
     ]
    }
   ],
   "source": [
    "# Importing the Entire Module:\n",
    "\n",
    "import random\n",
    "\n",
    "random_number = random.randint(1, 10)\n",
    "print(random_number)  # Output: A random number between 1 and 10"
   ]
  },
  {
   "cell_type": "code",
   "execution_count": 8,
   "id": "dac8fe37",
   "metadata": {},
   "outputs": [
    {
     "name": "stdout",
     "output_type": "stream",
     "text": [
      "2023-06-27 19:19:18.805633\n"
     ]
    }
   ],
   "source": [
    "# Importing and Using a Module's Class:\n",
    "\n",
    "from datetime import datetime\n",
    "\n",
    "current_time = datetime.now()\n",
    "print(current_time)  # Output: Current date and time"
   ]
  },
  {
   "cell_type": "code",
   "execution_count": 9,
   "id": "09ee5b33",
   "metadata": {},
   "outputs": [
    {
     "name": "stdout",
     "output_type": "stream",
     "text": [
      "0.479425538604203\n",
      "0.8775825618903728\n"
     ]
    }
   ],
   "source": [
    "# Importing Multiple Functions with Aliases:\n",
    "\n",
    "from math import sin as sine, cos as cosine\n",
    "\n",
    "angle = 0.5\n",
    "sin_value = sine(angle)\n",
    "cos_value = cosine(angle)\n",
    "\n",
    "print(sin_value)  # Output: Sine value of the angle\n",
    "print(cos_value)  # Output: Cosine value of the angle"
   ]
  },
  {
   "cell_type": "code",
   "execution_count": 11,
   "id": "58d739b9",
   "metadata": {},
   "outputs": [],
   "source": [
    "# Importing a Module from a Package:\n",
    "\n",
    "from sklearn.linear_model import LinearRegression\n",
    "\n",
    "model = LinearRegression()\n",
    "# ... rest of the code for using the linear regression model"
   ]
  }
 ],
 "metadata": {
  "kernelspec": {
   "display_name": "Python 3 (ipykernel)",
   "language": "python",
   "name": "python3"
  },
  "language_info": {
   "codemirror_mode": {
    "name": "ipython",
    "version": 3
   },
   "file_extension": ".py",
   "mimetype": "text/x-python",
   "name": "python",
   "nbconvert_exporter": "python",
   "pygments_lexer": "ipython3",
   "version": "3.9.7"
  }
 },
 "nbformat": 4,
 "nbformat_minor": 5
}
