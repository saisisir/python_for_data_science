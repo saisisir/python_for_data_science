{
 "cells": [
  {
   "cell_type": "code",
   "execution_count": 1,
   "id": "b8bbcfdc",
   "metadata": {},
   "outputs": [
    {
     "name": "stdout",
     "output_type": "stream",
     "text": [
      "{'name': 'Alice', 'age': 20, 'major': 'Computer Science', 'GPA': 3.8}\n"
     ]
    }
   ],
   "source": [
    "# In Python, a dictionary is an unordered collection of key-value pairs. It is also known as an associative array, hash map, \n",
    "# or simply a map. Dictionaries are defined using curly braces {} and consist of comma-separated key-value pairs. Here are \n",
    "# some key characteristics and features of dictionaries:\n",
    "\n",
    "# Key-Value Pairs: Dictionaries store data as key-value pairs, where each key is unique and associated with a corresponding \n",
    "# value. Keys can be of any immutable type, such as strings, numbers, or tuples, while values can be of any data type.\n",
    "\n",
    "# Unordered: Dictionaries are unordered, meaning that the order of elements is not guaranteed. The elements are stored and \n",
    "# accessed by their keys, not by their position.\n",
    "\n",
    "# Mutable: Dictionaries are mutable, allowing you to modify, add, or remove key-value pairs after creation.\n",
    "\n",
    "# Fast Access: Dictionary elements are accessed using their keys, which provides fast lookup and retrieval. This makes \n",
    "# dictionaries ideal for scenarios that require efficient searching or mapping of values.\n",
    "\n",
    "# Dynamic Size: Dictionaries can grow or shrink dynamically as key-value pairs are added or removed. They do not have a fixed \n",
    "# size or length.\n",
    "\n",
    "# No Duplicate Keys: Dictionaries enforce unique keys. If you attempt to add a key that already exists, the existing value \n",
    "# associated with that key will be overwritten.\n",
    "\n",
    "# Here's an example to illustrate the usage of dictionaries:\n",
    "# Creating a dictionary\n",
    "student = {\n",
    "    \"name\": \"Alice\",\n",
    "    \"age\": 20,\n",
    "    \"major\": \"Computer Science\",\n",
    "    \"GPA\": 3.8\n",
    "}\n",
    "\n",
    "print(student)  # Output: {\"name\": \"Alice\", \"age\": 20, \"major\": \"Computer Science\", \"GPA\": 3.8}"
   ]
  },
  {
   "cell_type": "code",
   "execution_count": 2,
   "id": "41edb64a",
   "metadata": {},
   "outputs": [
    {
     "name": "stdout",
     "output_type": "stream",
     "text": [
      "Alice\n",
      "3.8\n"
     ]
    }
   ],
   "source": [
    "# Accessing values\n",
    "print(student[\"name\"])  # Output: \"Alice\"\n",
    "print(student[\"GPA\"])   # Output: 3.8"
   ]
  },
  {
   "cell_type": "code",
   "execution_count": 5,
   "id": "6864b548",
   "metadata": {},
   "outputs": [
    {
     "name": "stdout",
     "output_type": "stream",
     "text": [
      "{'name': 'Alice', 'age': 21, 'major': 'Computer Science', 'GPA': 3.9}\n"
     ]
    }
   ],
   "source": [
    "# Modifying values\n",
    "student[\"age\"] = 21\n",
    "student[\"GPA\"] = 3.9\n",
    "\n",
    "print(student)  # Output: {\"name\": \"Alice\", \"age\": 21, \"major\": \"Computer Science\", \"GPA\": 3.9}"
   ]
  },
  {
   "cell_type": "code",
   "execution_count": 6,
   "id": "8e3b3c49",
   "metadata": {},
   "outputs": [
    {
     "name": "stdout",
     "output_type": "stream",
     "text": [
      "{'name': 'Alice', 'age': 21, 'major': 'Computer Science', 'GPA': 3.9, 'university': 'XYZ University'}\n"
     ]
    }
   ],
   "source": [
    "# Adding new key-value pairs\n",
    "student[\"university\"] = \"XYZ University\"\n",
    "\n",
    "print(student)  # Output: {\"name\": \"Alice\", \"age\": 21, \"major\": \"Computer Science\", \"GPA\": 3.9, \"university\": \"XYZ University\"}"
   ]
  },
  {
   "cell_type": "code",
   "execution_count": 7,
   "id": "08e05a5d",
   "metadata": {},
   "outputs": [
    {
     "name": "stdout",
     "output_type": "stream",
     "text": [
      "{'name': 'Alice', 'age': 21, 'GPA': 3.9, 'university': 'XYZ University'}\n"
     ]
    }
   ],
   "source": [
    "# Removing key-value pairs\n",
    "del student[\"major\"]\n",
    "\n",
    "print(student)  # Output: {\"name\": \"Alice\", \"age\": 21, \"GPA\": 3.9, \"university\": \"XYZ University\"}"
   ]
  },
  {
   "cell_type": "code",
   "execution_count": 8,
   "id": "0d999fc7",
   "metadata": {},
   "outputs": [],
   "source": [
    "# Dictionaries are commonly used for tasks such as storing and retrieving data based on a specific key, mapping unique \n",
    "# identifiers to corresponding values, or organizing data in a structured manner. They provide a flexible and efficient way \n",
    "# to work with key-value pairs in Python."
   ]
  },
  {
   "cell_type": "code",
   "execution_count": 9,
   "id": "36508769",
   "metadata": {},
   "outputs": [
    {
     "name": "stdout",
     "output_type": "stream",
     "text": [
      "123-456-7890\n",
      "555-123-4567\n"
     ]
    }
   ],
   "source": [
    "#Phonebook Directory\n",
    "phonebook = {\n",
    "    \"Alice\": \"123-456-7890\",\n",
    "    \"Bob\": \"987-654-3210\",\n",
    "    \"Charlie\": \"555-123-4567\"\n",
    "}\n",
    "\n",
    "# Accessing phone numbers\n",
    "print(phonebook[\"Alice\"])    # Output: \"123-456-7890\"\n",
    "print(phonebook[\"Charlie\"])  # Output: \"555-123-4567\""
   ]
  },
  {
   "cell_type": "code",
   "execution_count": 26,
   "id": "7bbe962e",
   "metadata": {},
   "outputs": [
    {
     "name": "stdout",
     "output_type": "stream",
     "text": [
      "This is a sample text It is used to demonstrate word frequency counting\n",
      "['This', 'is', 'a', 'sample', 'text', 'It', 'is', 'used', 'to', 'demonstrate', 'word', 'frequency', 'counting']\n",
      "2\n",
      "1\n",
      "1\n"
     ]
    }
   ],
   "source": [
    "#Word Frequency Counter\n",
    "text = \"This is a sample text. It is used to demonstrate word frequency counting.\"\n",
    "\n",
    "word_count = {}\n",
    "characters_to_replace = \".\"\n",
    "\n",
    "#Cleaning original text\n",
    "clean_text = text.translate(str.maketrans(\"\", \"\", characters_to_replace))\n",
    "print(clean_text)\n",
    "\n",
    "# # Counting word frequency\n",
    "words = clean_text.split()\n",
    "print(words)\n",
    "\n",
    "for word in words:\n",
    "    if word not in word_count:\n",
    "        word_count[word] = 1\n",
    "    else:\n",
    "        word_count[word] += 1\n",
    "\n",
    "# # # Accessing word counts\n",
    "print(word_count[\"is\"])      # Output: 2\n",
    "print(word_count['text'])    # Output: 1\n",
    "print(word_count[\"counting\"]) # Output: 1"
   ]
  },
  {
   "cell_type": "code",
   "execution_count": 27,
   "id": "869e08d1",
   "metadata": {},
   "outputs": [
    {
     "name": "stdout",
     "output_type": "stream",
     "text": [
      "John\n",
      "30\n",
      "john@example.com\n"
     ]
    }
   ],
   "source": [
    "#Database Record: Dictionaries can be used to represent a record in a database, where keys represent field names and \n",
    "#values represent corresponding data.\n",
    "\n",
    "record = {\n",
    "    \"id\": 1,\n",
    "    \"name\": \"John\",\n",
    "    \"age\": 30,\n",
    "    \"email\": \"john@example.com\"\n",
    "}\n",
    "\n",
    "# Accessing record fields\n",
    "print(record[\"name\"])   # Output: \"John\"\n",
    "print(record[\"age\"])    # Output: 30\n",
    "print(record[\"email\"])  # Output: \"john@example.com\""
   ]
  },
  {
   "cell_type": "code",
   "execution_count": 28,
   "id": "9e3b1069",
   "metadata": {},
   "outputs": [
    {
     "name": "stdout",
     "output_type": "stream",
     "text": [
      "4\n",
      "2\n",
      "1\n"
     ]
    }
   ],
   "source": [
    "#Frequency Distribution\n",
    "\n",
    "items = [\"apple\", \"banana\", \"apple\", \"cherry\", \"banana\", \"apple\", \"apple\"]\n",
    "\n",
    "frequency = {}\n",
    "\n",
    "# Calculating item frequency\n",
    "for item in items:\n",
    "    if item not in frequency:\n",
    "        frequency[item] = 1\n",
    "    else:\n",
    "        frequency[item] += 1\n",
    "\n",
    "# Accessing item frequencies\n",
    "print(frequency[\"apple\"])   # Output: 4\n",
    "print(frequency[\"banana\"])  # Output: 2\n",
    "print(frequency[\"cherry\"])  # Output: 1"
   ]
  },
  {
   "cell_type": "code",
   "execution_count": 30,
   "id": "d0edd1b6",
   "metadata": {},
   "outputs": [
    {
     "name": "stdout",
     "output_type": "stream",
     "text": [
      "15\n",
      "15\n"
     ]
    }
   ],
   "source": [
    "#Inventory Management\n",
    "\n",
    "inventory = {\n",
    "    \"apple\": 10,\n",
    "    \"banana\": 15,\n",
    "    \"orange\": 8,\n",
    "    \"mango\": 5\n",
    "}\n",
    "\n",
    "# Adding items to inventory\n",
    "inventory[\"grape\"] = 12\n",
    "\n",
    "# Updating item quantities\n",
    "inventory[\"apple\"] += 5\n",
    "\n",
    "# Removing items from inventory\n",
    "del inventory[\"orange\"]\n",
    "\n",
    "# Accessing item quantities\n",
    "print(inventory[\"banana\"])  # Output: 15\n",
    "print(inventory[\"apple\"])   # Output: 5"
   ]
  },
  {
   "cell_type": "code",
   "execution_count": 31,
   "id": "f5a4eb52",
   "metadata": {},
   "outputs": [
    {
     "name": "stdout",
     "output_type": "stream",
     "text": [
      "{'name': 'Alice', 'age': 25, 'city': 'New York'}\n"
     ]
    }
   ],
   "source": [
    "#Data Transformation\n",
    "\n",
    "data = [(\"name\", \"Alice\"), (\"age\", 25), (\"city\", \"New York\")]\n",
    "\n",
    "# Converting list of tuples to dictionary\n",
    "result = dict(data)\n",
    "\n",
    "print(result)  # Output: {\"name\": \"Alice\", \"age\": 25, \"city\": \"New York\"}"
   ]
  },
  {
   "cell_type": "code",
   "execution_count": 32,
   "id": "190afe33",
   "metadata": {},
   "outputs": [
    {
     "name": "stdout",
     "output_type": "stream",
     "text": [
      "admin\n",
      "localhost\n"
     ]
    }
   ],
   "source": [
    "#Configuration Settings:\n",
    "\n",
    "config = {\n",
    "    \"username\": \"admin\",\n",
    "    \"password\": \"pass123\",\n",
    "    \"server\": \"localhost\",\n",
    "    \"port\": 8080\n",
    "}\n",
    "\n",
    "# Accessing configuration settings\n",
    "print(config[\"username\"])  # Output: \"admin\"\n",
    "print(config[\"server\"])    # Output: \"localhost\""
   ]
  },
  {
   "cell_type": "code",
   "execution_count": 33,
   "id": "918778f5",
   "metadata": {},
   "outputs": [
    {
     "name": "stdout",
     "output_type": "stream",
     "text": [
      "25\n",
      "70\n"
     ]
    }
   ],
   "source": [
    "# Data Aggregation: Dictionaries can be used to aggregate data based on specific criteria. For example, aggregating sales\n",
    "# data by product category.\n",
    "    \n",
    "sales = [\n",
    "    {\"product\": \"apple\", \"category\": \"fruit\", \"quantity\": 10},\n",
    "    {\"product\": \"banana\", \"category\": \"fruit\", \"quantity\": 15},\n",
    "    {\"product\": \"pen\", \"category\": \"stationery\", \"quantity\": 50},\n",
    "    {\"product\": \"notebook\", \"category\": \"stationery\", \"quantity\": 20}\n",
    "]\n",
    "\n",
    "category_totals = {}\n",
    "\n",
    "# Aggregating sales data by category\n",
    "for sale in sales:\n",
    "    category = sale[\"category\"]\n",
    "    quantity = sale[\"quantity\"]\n",
    "    \n",
    "    if category not in category_totals:\n",
    "        category_totals[category] = quantity\n",
    "    else:\n",
    "        category_totals[category] += quantity\n",
    "\n",
    "# Accessing category totals\n",
    "print(category_totals[\"fruit\"])      # Output: 25\n",
    "print(category_totals[\"stationery\"]) # Output: 70"
   ]
  }
 ],
 "metadata": {
  "kernelspec": {
   "display_name": "Python 3 (ipykernel)",
   "language": "python",
   "name": "python3"
  },
  "language_info": {
   "codemirror_mode": {
    "name": "ipython",
    "version": 3
   },
   "file_extension": ".py",
   "mimetype": "text/x-python",
   "name": "python",
   "nbconvert_exporter": "python",
   "pygments_lexer": "ipython3",
   "version": "3.9.7"
  }
 },
 "nbformat": 4,
 "nbformat_minor": 5
}
