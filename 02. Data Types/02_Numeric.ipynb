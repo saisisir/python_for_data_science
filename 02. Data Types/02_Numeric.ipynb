{
 "cells": [
  {
   "cell_type": "code",
   "execution_count": 1,
   "id": "37c01c8d",
   "metadata": {},
   "outputs": [],
   "source": [
    "#1.Python numbers \n",
    "\n",
    "# In Python, there are several types of numbers that you can work with. The commonly used numeric types are integers (int), \n",
    "# floating-point numbers (float), and complex numbers (complex). Here are some examples of working with numbers in Python:"
   ]
  },
  {
   "cell_type": "code",
   "execution_count": 2,
   "id": "2858b693",
   "metadata": {},
   "outputs": [
    {
     "name": "stdout",
     "output_type": "stream",
     "text": [
      "5\n",
      "-2.0\n",
      "1e-05\n"
     ]
    }
   ],
   "source": [
    "#Integers\n",
    "x = 10\n",
    "y = -5\n",
    "z = 0\n",
    "\n",
    "sum = x + y\n",
    "difference = x - y\n",
    "product = x * y\n",
    "quotient = x / y\n",
    "modulus = x % y\n",
    "exponentiation = x ** y\n",
    "\n",
    "print(sum)  \n",
    "print(quotient)  \n",
    "print(exponentiation)  "
   ]
  },
  {
   "cell_type": "code",
   "execution_count": 3,
   "id": "2c9b5403",
   "metadata": {},
   "outputs": [
    {
     "name": "stdout",
     "output_type": "stream",
     "text": [
      "5.858280000000001\n",
      "8.5353992\n"
     ]
    }
   ],
   "source": [
    "#floating point numbers \n",
    "a = 3.14\n",
    "b = 2.71828\n",
    "\n",
    "sum = a + b\n",
    "difference = a - b\n",
    "product = a * b\n",
    "quotient = a / b\n",
    "\n",
    "print(sum)  \n",
    "print(product)  "
   ]
  },
  {
   "cell_type": "code",
   "execution_count": 4,
   "id": "6e99fc87",
   "metadata": {},
   "outputs": [
    {
     "name": "stdout",
     "output_type": "stream",
     "text": [
      "(3+1j)\n",
      "(1+5j)\n",
      "(8-1j)\n"
     ]
    }
   ],
   "source": [
    "#complex numbers \n",
    "c1 = 2 + 3j\n",
    "c2 = 1 - 2j\n",
    "\n",
    "sum = c1 + c2\n",
    "difference = c1 - c2\n",
    "product = c1 * c2\n",
    "\n",
    "print(sum)  # Output: (3+1j)\n",
    "print(difference)  # Output: (1+5j)\n",
    "print(product)  # Output: (8+1j)"
   ]
  },
  {
   "cell_type": "code",
   "execution_count": null,
   "id": "aad9ddd2",
   "metadata": {},
   "outputs": [],
   "source": []
  }
 ],
 "metadata": {
  "kernelspec": {
   "display_name": "Python 3 (ipykernel)",
   "language": "python",
   "name": "python3"
  },
  "language_info": {
   "codemirror_mode": {
    "name": "ipython",
    "version": 3
   },
   "file_extension": ".py",
   "mimetype": "text/x-python",
   "name": "python",
   "nbconvert_exporter": "python",
   "pygments_lexer": "ipython3",
   "version": "3.9.7"
  }
 },
 "nbformat": 4,
 "nbformat_minor": 5
}
