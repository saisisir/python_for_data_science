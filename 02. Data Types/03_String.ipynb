{
 "cells": [
  {
   "cell_type": "code",
   "execution_count": 10,
   "id": "8a9cf709",
   "metadata": {},
   "outputs": [
    {
     "name": "stdout",
     "output_type": "stream",
     "text": [
      "Hello Alice\n"
     ]
    }
   ],
   "source": [
    "#2. String\n",
    "\n",
    "#Creating Strings\n",
    "message = \"Hello, World!\"\n",
    "name = 'Alice'\n",
    "\n",
    "#Concatenating Strings\n",
    "greeting = \"Hello\"\n",
    "name = \"Alice\"\n",
    "message = greeting + \" \" + name\n",
    "print(message)  # Output: Hello Alice"
   ]
  },
  {
   "cell_type": "code",
   "execution_count": 11,
   "id": "8b892041",
   "metadata": {},
   "outputs": [
    {
     "name": "stdout",
     "output_type": "stream",
     "text": [
      "25\n"
     ]
    }
   ],
   "source": [
    "#String methods\n",
    "sentence = \"I love Python programming\"\n",
    "\n",
    "# Length of the string\n",
    "length = len(sentence)\n",
    "print(length)  # Output: 25"
   ]
  },
  {
   "cell_type": "code",
   "execution_count": 12,
   "id": "da6ad068",
   "metadata": {},
   "outputs": [
    {
     "name": "stdout",
     "output_type": "stream",
     "text": [
      "I LOVE PYTHON PROGRAMMING\n",
      "i love python programming\n"
     ]
    }
   ],
   "source": [
    "# Converting to uppercase and lowercase\n",
    "uppercase = sentence.upper()\n",
    "lowercase = sentence.lower()\n",
    "print(uppercase)  # Output: I LOVE PYTHON PROGRAMMING\n",
    "print(lowercase)  # Output: i love python programming"
   ]
  },
  {
   "cell_type": "code",
   "execution_count": 19,
   "id": "e4ee644b",
   "metadata": {},
   "outputs": [
    {
     "name": "stdout",
     "output_type": "stream",
     "text": [
      "True\n",
      "True\n"
     ]
    }
   ],
   "source": [
    "# Checking if a string starts or ends with a specific substring\n",
    "starts_with = sentence.startswith(\"I\")\n",
    "ends_with = sentence.endswith(\"programming\")\n",
    "print(starts_with)  # Output: True\n",
    "print(ends_with)  # Output: True"
   ]
  },
  {
   "cell_type": "code",
   "execution_count": 43,
   "id": "85693976",
   "metadata": {},
   "outputs": [
    {
     "name": "stdout",
     "output_type": "stream",
     "text": [
      "7\n"
     ]
    }
   ],
   "source": [
    "# Finding the index of a substring within a string\n",
    "sentence\n",
    "index = sentence.find('Python')\n",
    "print(index)"
   ]
  },
  {
   "cell_type": "code",
   "execution_count": 15,
   "id": "d86dd003",
   "metadata": {},
   "outputs": [
    {
     "name": "stdout",
     "output_type": "stream",
     "text": [
      "I love Java programming\n"
     ]
    }
   ],
   "source": [
    "# Replacing substrings\n",
    "new_sentence = sentence.replace(\"Python\", \"Java\")\n",
    "print(new_sentence)  # Output: I love Java programming"
   ]
  },
  {
   "cell_type": "code",
   "execution_count": 40,
   "id": "9c52122f",
   "metadata": {},
   "outputs": [
    {
     "name": "stdout",
     "output_type": "stream",
     "text": [
      "My name is Alice and I'm 25 years old.\n",
      "My name is Alice and I'm 25 years old\n",
      "My name is Alice and I'm 25 years old.\n",
      "My name is Alice and I'm 25 years old.\n"
     ]
    }
   ],
   "source": [
    "#String Formatting\n",
    "name = \"Alice\"\n",
    "age = 25\n",
    "\n",
    "# Using f-string for string interpolation (f -string stands for fomatted string laterals)\n",
    "message = f\"My name is {name} and I'm {age} years old.\"\n",
    "print(message)  # Output: My name is Alice and I'm 25 years old.\n",
    "\n",
    "# Using the str.format() method\n",
    "message = \"My name is {} and I'm {} years old\".format(name, age)\n",
    "print(message)  # Output: My name is Alice and I'm 25 years old.\n",
    "\n",
    "#Using the concatenation method\n",
    "message = \"My name is \" + name + \" and I'm \" + str(age) + \" years old.\"\n",
    "print(message)  # Output: My name is Alice and I'm 25 years old.\n",
    "\n",
    "#using c-style formatting \n",
    "message = \"My name is %s and I'm %d years old.\" %(name, age)\n",
    "print(message)  # Output: My name is Alice and I'm 25 years old."
   ]
  },
  {
   "cell_type": "code",
   "execution_count": 21,
   "id": "cea2b138",
   "metadata": {},
   "outputs": [
    {
     "name": "stdout",
     "output_type": "stream",
     "text": [
      "H\n",
      "o\n"
     ]
    }
   ],
   "source": [
    "#Accessing individual characters\n",
    "text = \"Hello\"\n",
    "\n",
    "first_char = text[0]\n",
    "last_char = text[-1]\n",
    "\n",
    "print(first_char)  # Output: H\n",
    "print(last_char)  # Output: o\n"
   ]
  },
  {
   "cell_type": "code",
   "execution_count": 69,
   "id": "a2a1216f",
   "metadata": {},
   "outputs": [
    {
     "name": "stdout",
     "output_type": "stream",
     "text": [
      "World\n"
     ]
    }
   ],
   "source": [
    "#Slicing Strings:\n",
    "text = \"Hello, World!\"\n",
    "\n",
    "# Extracting a substring using slicing\n",
    "substring = text[7:12]\n",
    "print(substring)  # Output: World"
   ]
  },
  {
   "cell_type": "code",
   "execution_count": 68,
   "id": "35194f90",
   "metadata": {},
   "outputs": [
    {
     "name": "stdout",
     "output_type": "stream",
     "text": [
      "!dlroW ,olleH\n"
     ]
    }
   ],
   "source": [
    "# Reversing a string using slicing\n",
    "reversed_text = text[::-1]\n",
    "print(reversed_text)  # Output: !dlroW ,olleH"
   ]
  },
  {
   "cell_type": "code",
   "execution_count": 62,
   "id": "51ad4b88",
   "metadata": {},
   "outputs": [
    {
     "name": "stdout",
     "output_type": "stream",
     "text": [
      "['Python', 'is', 'a', 'powerful', 'programming', 'language']\n"
     ]
    }
   ],
   "source": [
    "#Splitting and joining strings\n",
    "sentence = \"Python is a powerful programming language\"\n",
    "\n",
    "# Splitting the sentence into a list of words\n",
    "words = sentence.split()\n",
    "print(words)  # Output: ['Python', 'is', 'a', 'powerful', 'programming', 'language']"
   ]
  },
  {
   "cell_type": "code",
   "execution_count": 67,
   "id": "34e2da02",
   "metadata": {},
   "outputs": [
    {
     "name": "stdout",
     "output_type": "stream",
     "text": [
      "Python-is-a-powerful-programming-language\n"
     ]
    }
   ],
   "source": [
    "# Joining a list of words into a single string\n",
    "new_sentence = \"-\".join(words)\n",
    "print(new_sentence)  # Output: Python-is-a-powerful-programming-language"
   ]
  },
  {
   "cell_type": "code",
   "execution_count": 72,
   "id": "b9802587",
   "metadata": {},
   "outputs": [
    {
     "name": "stdout",
     "output_type": "stream",
     "text": [
      "True\n",
      "True\n"
     ]
    }
   ],
   "source": [
    "#checking for substrings and character presence \n",
    "text = \"Hello, World!\"\n",
    "\n",
    "# Checking if a substring exists in a string\n",
    "contains_substring = \"World\" in text\n",
    "print(contains_substring)  # Output: True\n",
    "\n",
    "# Checking if a string consists of only numeric characters\n",
    "numeric_string = \"12345\"\n",
    "print(numeric_string.isdigit())  # Output: True"
   ]
  },
  {
   "cell_type": "code",
   "execution_count": 75,
   "id": "698404f4",
   "metadata": {},
   "outputs": [
    {
     "name": "stdout",
     "output_type": "stream",
     "text": [
      "Alice\n"
     ]
    }
   ],
   "source": [
    "#Removing white space and formatting\n",
    "name = \"   Alice    \"\n",
    "\n",
    "# Removing leading and trailing whitespace\n",
    "trimmed_name = name.strip()\n",
    "print(trimmed_name)  #Output : 'Alice'"
   ]
  },
  {
   "cell_type": "code",
   "execution_count": 87,
   "id": "bf7bfd26",
   "metadata": {},
   "outputs": [
    {
     "name": "stdout",
     "output_type": "stream",
     "text": [
      "0042\n"
     ]
    }
   ],
   "source": [
    "# Formatting strings with leading zeros or specific widths\n",
    "number = 42\n",
    "formatted_number = \"{:04}\".format(number)\n",
    "print(formatted_number)  # Output: 0042"
   ]
  },
  {
   "cell_type": "code",
   "execution_count": 90,
   "id": "91833ce0",
   "metadata": {},
   "outputs": [
    {
     "name": "stdout",
     "output_type": "stream",
     "text": [
      "The string is empty\n"
     ]
    }
   ],
   "source": [
    "#checking if a string is empty\n",
    "text = \"\"\n",
    "\n",
    "if not text:\n",
    "    print(\"The string is empty\")\n",
    "else:\n",
    "    print(\"The string is not empty\")"
   ]
  },
  {
   "cell_type": "code",
   "execution_count": 91,
   "id": "835703fe",
   "metadata": {},
   "outputs": [
    {
     "name": "stdout",
     "output_type": "stream",
     "text": [
      "5\n"
     ]
    }
   ],
   "source": [
    "#counting occurences of a substring\n",
    "sentence = \"Python is a popular programming language\"\n",
    "substring = \"a\"\n",
    "\n",
    "count = sentence.count(substring)\n",
    "print(count)  # Output: 5"
   ]
  },
  {
   "cell_type": "code",
   "execution_count": 97,
   "id": "caecc0b6",
   "metadata": {},
   "outputs": [
    {
     "name": "stdout",
     "output_type": "stream",
     "text": [
      "Hello World\n"
     ]
    }
   ],
   "source": [
    "#Removing specific characters from a string:\n",
    "text = \"Hello, World!\"\n",
    "characters_to_remove = \",!\"\n",
    "\n",
    "cleaned_text = text.translate(str.maketrans(\"\", \"\", \",!\"))\n",
    "print(cleaned_text)\n",
    "\n",
    "# str.maketrans(x, y, z)\n",
    "# Here's what each parameter represents:\n",
    "\n",
    "# x: A string specifying the characters that need to be replaced.\n",
    "# y: A string specifying the corresponding replacements for the characters in x.\n",
    "# z: A string specifying characters that should be removed."
   ]
  },
  {
   "cell_type": "code",
   "execution_count": 98,
   "id": "e6521ac3",
   "metadata": {},
   "outputs": [
    {
     "name": "stdout",
     "output_type": "stream",
     "text": [
      "Hxlly Wyrld\n"
     ]
    }
   ],
   "source": [
    "#One more example for the above case \n",
    "text = \"Hello, World!\"\n",
    "characters_to_replace = \"eo\"\n",
    "replacement_characters = \"xy\"\n",
    "characters_to_remove = \",!\"\n",
    "\n",
    "translation_table = str.maketrans(characters_to_replace, replacement_characters, characters_to_remove)\n",
    "\n",
    "modified_text = text.translate(translation_table)\n",
    "print(modified_text)  # Output: Hxlly Wyrld"
   ]
  },
  {
   "cell_type": "code",
   "execution_count": 100,
   "id": "d067fa07",
   "metadata": {},
   "outputs": [
    {
     "name": "stdout",
     "output_type": "stream",
     "text": [
      "The string consists of numeric characters\n"
     ]
    }
   ],
   "source": [
    "#checking if a string is numeric \n",
    "text = \"12345\"\n",
    "\n",
    "if text.isnumeric():\n",
    "    print(\"The string consists of numeric characters\")\n",
    "else:\n",
    "    print(\"The string does not consist of numeric characters\")\n"
   ]
  },
  {
   "cell_type": "code",
   "execution_count": 102,
   "id": "19283a72",
   "metadata": {},
   "outputs": [
    {
     "name": "stdout",
     "output_type": "stream",
     "text": [
      "Python Is Fun\n"
     ]
    }
   ],
   "source": [
    "#Capitalizing the first letter of each word in a string:\n",
    "sentence = \"python is fun\"\n",
    "\n",
    "capitalized_sentence = sentence.title()\n",
    "print(capitalized_sentence)  # Output: Python Is Fun\n"
   ]
  },
  {
   "cell_type": "code",
   "execution_count": 103,
   "id": "ca03f698",
   "metadata": {},
   "outputs": [
    {
     "name": "stdout",
     "output_type": "stream",
     "text": [
      "!dlroW ,olleH\n"
     ]
    }
   ],
   "source": [
    "#Reversing a string:\n",
    "\n",
    "text = \"Hello, World!\"\n",
    "\n",
    "reversed_text = text[::-1]\n",
    "print(reversed_text)  # Output: !dlroW ,olleH"
   ]
  },
  {
   "cell_type": "code",
   "execution_count": 104,
   "id": "3a26c45e",
   "metadata": {},
   "outputs": [],
   "source": [
    "#Also, there are few common syntaxes for string manipulations\n",
    "# String manipulation refers to the process of changing, extracting, or manipulating characters within a string. String formatting, on the other hand, refers to the process of constructing a new string by replacing placeholders with values.\n",
    "\n",
    "# In Python, there are various string manipulation methods and formatting techniques available:\n",
    "\n",
    "# String manipulation:\n",
    "\n",
    "# len(string): returns the length of the string\n",
    "# string.upper(): returns a new string with all characters in uppercase\n",
    "# string.lower(): returns a new string with all characters in lowercase\n",
    "# string.strip(): returns a new string with all leading and trailing whitespace removed\n",
    "# string.split(): returns a list of substrings separated by a delimiter\n",
    "# string.replace(old, new): returns a new string with all occurrences of old replaced with new\n",
    "# string.startswith(substring): returns True if the string starts with substring"
   ]
  }
 ],
 "metadata": {
  "kernelspec": {
   "display_name": "Python 3 (ipykernel)",
   "language": "python",
   "name": "python3"
  },
  "language_info": {
   "codemirror_mode": {
    "name": "ipython",
    "version": 3
   },
   "file_extension": ".py",
   "mimetype": "text/x-python",
   "name": "python",
   "nbconvert_exporter": "python",
   "pygments_lexer": "ipython3",
   "version": "3.9.7"
  }
 },
 "nbformat": 4,
 "nbformat_minor": 5
}
