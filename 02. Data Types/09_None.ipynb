{
 "cells": [
  {
   "cell_type": "code",
   "execution_count": 1,
   "id": "809ec6f1",
   "metadata": {},
   "outputs": [
    {
     "name": "stdout",
     "output_type": "stream",
     "text": [
      "Hello, Alice\n"
     ]
    }
   ],
   "source": [
    "# In Python, None is a special constant representing the absence of a value or the lack of a value. It is often referred to as\n",
    "# the \"NoneType\" because it is an object of the NoneType class.\n",
    "\n",
    "# Here are some key points about the None value:\n",
    "\n",
    "# Representing Absence of Value: None is used to indicate the absence of a value. It is commonly used to initialize variables \n",
    "# when you don't have a specific value to assign yet or when you want to reset a variable to an empty state.\n",
    "\n",
    "# Function Return Values: Functions in Python can return None to indicate that they do not return any meaningful value. If a \n",
    "# function does not explicitly return a value, it implicitly returns None.\n",
    "\n",
    "# Default Parameter Values: None is often used as a default value for function parameters when the actual value is not\n",
    "# provided. \n",
    "\n",
    "# This allows the function to handle the case where no argument is passed.\n",
    "\n",
    "# Comparisons with None: None can be compared using the equality operator (==) to check if a variable has a value or is None. \n",
    "# It is important to note that None is not the same as an empty string (\"\"), zero (0), or False. Comparing with None \n",
    "# specifically checks for the absence of a value.\n",
    "\n",
    "# Here are some examples that illustrate the usage of None in Python:\n",
    "# Initializing variables\n",
    "x = None\n",
    "name = None\n",
    "\n",
    "# Function returning None\n",
    "def greet(name):\n",
    "    if name:\n",
    "        return \"Hello, \" + name\n",
    "    else:\n",
    "        return None\n",
    "\n",
    "result = greet(\"Alice\")\n",
    "print(result)  # Output: \"Hello, Alice\""
   ]
  },
  {
   "cell_type": "code",
   "execution_count": 2,
   "id": "73afe4eb",
   "metadata": {},
   "outputs": [
    {
     "name": "stdout",
     "output_type": "stream",
     "text": [
      "No message provided.\n",
      "Hello!\n"
     ]
    }
   ],
   "source": [
    "# Default parameter value\n",
    "def print_message(message=None):\n",
    "    if message:\n",
    "        print(message)\n",
    "    else:\n",
    "        print(\"No message provided.\")\n",
    "\n",
    "print_message()          # Output: \"No message provided.\"\n",
    "print_message(\"Hello!\")  # Output: \"Hello!\""
   ]
  },
  {
   "cell_type": "code",
   "execution_count": 3,
   "id": "c39c2a73",
   "metadata": {},
   "outputs": [
    {
     "name": "stdout",
     "output_type": "stream",
     "text": [
      "The value is None.\n",
      "The value is None.\n"
     ]
    }
   ],
   "source": [
    "# Comparisons with None\n",
    "value = None\n",
    "\n",
    "if value is None:\n",
    "    print(\"The value is None.\")\n",
    "\n",
    "if value == None:\n",
    "    print(\"The value is None.\")"
   ]
  }
 ],
 "metadata": {
  "kernelspec": {
   "display_name": "Python 3 (ipykernel)",
   "language": "python",
   "name": "python3"
  },
  "language_info": {
   "codemirror_mode": {
    "name": "ipython",
    "version": 3
   },
   "file_extension": ".py",
   "mimetype": "text/x-python",
   "name": "python",
   "nbconvert_exporter": "python",
   "pygments_lexer": "ipython3",
   "version": "3.9.7"
  }
 },
 "nbformat": 4,
 "nbformat_minor": 5
}
