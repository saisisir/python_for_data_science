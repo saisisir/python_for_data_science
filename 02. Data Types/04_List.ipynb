{
 "cells": [
  {
   "cell_type": "code",
   "execution_count": 2,
   "id": "b522b572",
   "metadata": {},
   "outputs": [],
   "source": [
    "#3. List\n",
    "\n",
    "# In Python, a list is a built-in data structure used to store a collection of items. It is an ordered and mutable container, meaning that you can access, modify, and reorder its elements. A list can contain elements of different types, including numbers, strings, booleans, or even other lists.\n",
    "\n",
    "# Here are some key characteristics and features of lists:\n",
    "\n",
    "# Ordered: The elements in a list are arranged in a specific order, and this order is maintained unless modified explicitly.\n",
    "\n",
    "# Mutable: You can modify the elements of a list after it is created. You can add, remove, or change elements.\n",
    "\n",
    "# Indexed: Each element in a list has an index, which represents its position in the list. Indexing starts from 0 for the first element.\n",
    "\n",
    "# Heterogeneous: A list can contain elements of different data types. For example, it can hold both numbers and strings.\n",
    "\n",
    "# Dynamic: Lists in Python are dynamic, meaning they can grow or shrink in size as needed. You can add or remove elements at any time.\n",
    "\n",
    "# Lists are defined using square brackets [] and separating the elements with commas. Here's an example of creating a list:"
   ]
  },
  {
   "cell_type": "code",
   "execution_count": 3,
   "id": "2faed513",
   "metadata": {},
   "outputs": [],
   "source": [
    "#Creating a list \n",
    "numbers = [1, 2, 3, 4, 5]\n",
    "fruits = [\"apple\", \"banana\", \"cherry\"]\n",
    "mixed = [1, \"apple\", True, 3.14]"
   ]
  },
  {
   "cell_type": "code",
   "execution_count": 4,
   "id": "41d74530",
   "metadata": {},
   "outputs": [
    {
     "name": "stdout",
     "output_type": "stream",
     "text": [
      "1\n",
      "3\n",
      "5\n"
     ]
    }
   ],
   "source": [
    "# Accessing elements in a list:\n",
    "\n",
    "numbers = [1, 2, 3, 4, 5]\n",
    "\n",
    "print(numbers[0])  # Output: 1\n",
    "print(numbers[2])  # Output: 3\n",
    "print(numbers[-1])  # Output: 5 (negative index starts from the end)"
   ]
  },
  {
   "cell_type": "code",
   "execution_count": 5,
   "id": "a4e91262",
   "metadata": {},
   "outputs": [
    {
     "name": "stdout",
     "output_type": "stream",
     "text": [
      "['apple', 'orange', 'cherry']\n"
     ]
    }
   ],
   "source": [
    "# Modifying elements in a list:\n",
    "\n",
    "fruits = [\"apple\", \"banana\", \"cherry\"]\n",
    "\n",
    "fruits[1] = \"orange\"\n",
    "print(fruits)  # Output: [\"apple\", \"orange\", \"cherry\"]"
   ]
  },
  {
   "cell_type": "code",
   "execution_count": 6,
   "id": "eeceb877",
   "metadata": {},
   "outputs": [
    {
     "name": "stdout",
     "output_type": "stream",
     "text": [
      "[2, 3, 4]\n",
      "[1, 2, 3]\n",
      "[3, 4, 5]\n"
     ]
    }
   ],
   "source": [
    "#list slicing\n",
    "\n",
    "numbers = [1, 2, 3, 4, 5]\n",
    "\n",
    "print(numbers[1:4])  # Output: [2, 3, 4] (slicing from index 1 to 3)\n",
    "print(numbers[:3])  # Output: [1, 2, 3] (slicing from the beginning to index 2)\n",
    "print(numbers[2:])  # Output: [3, 4, 5] (slicing from index 2 to the end)"
   ]
  },
  {
   "cell_type": "code",
   "execution_count": 7,
   "id": "ce02fe16",
   "metadata": {},
   "outputs": [
    {
     "name": "stdout",
     "output_type": "stream",
     "text": [
      "['apple', 'banana', 'cherry', 'orange']\n"
     ]
    }
   ],
   "source": [
    "#appending elements to a list\n",
    "\n",
    "fruits = [\"apple\", \"banana\", \"cherry\"]\n",
    "\n",
    "fruits.append(\"orange\")\n",
    "print(fruits)  # Output: [\"apple\", \"banana\", \"cherry\", \"orange\"]"
   ]
  },
  {
   "cell_type": "code",
   "execution_count": 27,
   "id": "1ab0bc42",
   "metadata": {},
   "outputs": [
    {
     "name": "stdout",
     "output_type": "stream",
     "text": [
      "[1, 4, 5]\n"
     ]
    }
   ],
   "source": [
    "#Removing elements from a list \n",
    "\n",
    "numbers = [1, 2, 3, 4, 5]\n",
    "\n",
    "numbers.remove(3)\n",
    "# del numbers[1]\n",
    "print(numbers)  # Output: [1, 2, 4, 5]"
   ]
  },
  {
   "cell_type": "code",
   "execution_count": 28,
   "id": "e2921cd6",
   "metadata": {},
   "outputs": [
    {
     "name": "stdout",
     "output_type": "stream",
     "text": [
      "3\n"
     ]
    }
   ],
   "source": [
    "#Checking length of a list \n",
    "\n",
    "fruits = [\"apple\", \"banana\", \"cherry\"]\n",
    "\n",
    "length = len(fruits)\n",
    "print(length)  # Output: 3"
   ]
  },
  {
   "cell_type": "code",
   "execution_count": 29,
   "id": "e0fe988f",
   "metadata": {},
   "outputs": [
    {
     "name": "stdout",
     "output_type": "stream",
     "text": [
      "Yes, banana is in the list.\n"
     ]
    }
   ],
   "source": [
    "#checking if an element is in a list \n",
    "\n",
    "fruits = [\"apple\", \"banana\", \"cherry\"]\n",
    "\n",
    "if \"banana\" in fruits:\n",
    "    print(\"Yes, banana is in the list.\")"
   ]
  },
  {
   "cell_type": "code",
   "execution_count": 30,
   "id": "5d1c193e",
   "metadata": {},
   "outputs": [
    {
     "name": "stdout",
     "output_type": "stream",
     "text": [
      "1\n",
      "2\n",
      "3\n",
      "4\n",
      "5\n"
     ]
    }
   ],
   "source": [
    "#Iterating over a list \n",
    "\n",
    "numbers = [1, 2, 3, 4, 5]\n",
    "\n",
    "for number in numbers:\n",
    "    print(number)  # Output: 1, 2, 3, 4, 5 (each number on a separate line)"
   ]
  },
  {
   "cell_type": "code",
   "execution_count": 12,
   "id": "b7ea6a15",
   "metadata": {},
   "outputs": [
    {
     "name": "stdout",
     "output_type": "stream",
     "text": [
      "[1, 2, 3, 4, 5, 6]\n"
     ]
    }
   ],
   "source": [
    "#Combining lists \n",
    "\n",
    "list1 = [1, 2, 3]\n",
    "list2 = [4, 5, 6]\n",
    "\n",
    "combined = list1 + list2\n",
    "print(combined)  # Output: [1, 2, 3, 4, 5, 6]"
   ]
  },
  {
   "cell_type": "code",
   "execution_count": 17,
   "id": "af567071",
   "metadata": {},
   "outputs": [
    {
     "name": "stdout",
     "output_type": "stream",
     "text": [
      "[5, 7, 9]\n"
     ]
    }
   ],
   "source": [
    "#mathematical addition of elements in a list \n",
    "list1 = [1, 2, 3]\n",
    "list2 = [4, 5, 6]\n",
    "\n",
    "summed_list = [x + y for x, y in zip(list1, list2)]\n",
    "print(summed_list)  # Output: [5, 7, 9]"
   ]
  },
  {
   "cell_type": "code",
   "execution_count": 20,
   "id": "b2c4992e",
   "metadata": {},
   "outputs": [
    {
     "name": "stdout",
     "output_type": "stream",
     "text": [
      "3\n"
     ]
    }
   ],
   "source": [
    "#Counting Occurence of an item in a list \n",
    "\n",
    "numbers = [1, 2, 2, 3, 2, 4, 5]\n",
    "\n",
    "count = numbers.count(2)\n",
    "print(count)  # Output: 3"
   ]
  },
  {
   "cell_type": "code",
   "execution_count": 22,
   "id": "fd5f2c91",
   "metadata": {},
   "outputs": [
    {
     "name": "stdout",
     "output_type": "stream",
     "text": [
      "1\n"
     ]
    }
   ],
   "source": [
    "#index of an item in a list \n",
    "\n",
    "fruits = [\"apple\", \"banana\", \"cherry\"]\n",
    "\n",
    "index = fruits.index(\"banana\")\n",
    "print(index)  # Output: 1"
   ]
  },
  {
   "cell_type": "code",
   "execution_count": 23,
   "id": "0b08c95f",
   "metadata": {},
   "outputs": [
    {
     "name": "stdout",
     "output_type": "stream",
     "text": [
      "[1, 2, 3, 4, 5]\n"
     ]
    }
   ],
   "source": [
    "#Sorting a list \n",
    "\n",
    "numbers = [4, 2, 1, 3, 5]\n",
    "\n",
    "numbers.sort()\n",
    "print(numbers)  # Output: [1, 2, 3, 4, 5]"
   ]
  },
  {
   "cell_type": "code",
   "execution_count": 24,
   "id": "66744f3f",
   "metadata": {},
   "outputs": [
    {
     "name": "stdout",
     "output_type": "stream",
     "text": [
      "[5, 4, 3, 2, 1]\n"
     ]
    }
   ],
   "source": [
    "#Reversing a list \n",
    "\n",
    "numbers = [1, 2, 3, 4, 5]\n",
    "\n",
    "numbers.reverse()\n",
    "print(numbers)  # Output: [5, 4, 3, 2, 1]"
   ]
  },
  {
   "cell_type": "code",
   "execution_count": 32,
   "id": "230f7fa0",
   "metadata": {},
   "outputs": [
    {
     "name": "stdout",
     "output_type": "stream",
     "text": [
      "['apple', 'banana', 'cherry']\n"
     ]
    }
   ],
   "source": [
    "#Copying a list \n",
    "\n",
    "fruits = [\"apple\", \"banana\", \"cherry\"]\n",
    "\n",
    "fruits_copy = fruits.copy()\n",
    "print(fruits_copy)   #Output :  ['apple', 'banana', 'cherry']"
   ]
  },
  {
   "cell_type": "code",
   "execution_count": 34,
   "id": "19a9edfa",
   "metadata": {},
   "outputs": [
    {
     "name": "stdout",
     "output_type": "stream",
     "text": [
      "[]\n"
     ]
    }
   ],
   "source": [
    "#Clearing a list \n",
    "\n",
    "numbers = [1, 2, 3, 4, 5]\n",
    "\n",
    "numbers.clear()\n",
    "print(numbers)   #Output :  []"
   ]
  },
  {
   "cell_type": "code",
   "execution_count": 35,
   "id": "b76f5c32",
   "metadata": {},
   "outputs": [
    {
     "name": "stdout",
     "output_type": "stream",
     "text": [
      "[1, 4, 9, 16, 25]\n"
     ]
    }
   ],
   "source": [
    "#List Comprehension \n",
    "\n",
    "numbers = [1, 2, 3, 4, 5]\n",
    "\n",
    "squared_numbers = [x**2 for x in numbers]\n",
    "print(squared_numbers)  # Output: [1, 4, 9, 16, 25]"
   ]
  },
  {
   "cell_type": "code",
   "execution_count": 38,
   "id": "3f5dd074",
   "metadata": {},
   "outputs": [
    {
     "name": "stdout",
     "output_type": "stream",
     "text": [
      "True\n",
      "False\n"
     ]
    }
   ],
   "source": [
    "#Checking if all or any elements in a list satisfy a condition:\n",
    "numbers = [1, 2, 3, 4, 5]\n",
    "\n",
    "all_positive = all(num > 0 for num in numbers)\n",
    "print(all_positive)\n",
    "\n",
    "any_negative = any(num < 0 for num in numbers)\n",
    "print(any_negative)"
   ]
  },
  {
   "cell_type": "code",
   "execution_count": 39,
   "id": "51a4de00",
   "metadata": {},
   "outputs": [
    {
     "name": "stdout",
     "output_type": "stream",
     "text": [
      "{'cherry', 'apple', 'banana', 'orange'}\n",
      "4\n"
     ]
    }
   ],
   "source": [
    "#Counting unique elements in a list \n",
    "fruits = [\"apple\", \"banana\", \"cherry\", \"apple\", \"banana\", \"orange\"]\n",
    "\n",
    "unique_fruits = set(fruits)\n",
    "count = len(unique_fruits)\n",
    "\n",
    "print(unique_fruits)  # Output: {'cherry', 'apple', 'orange', 'banana'}\n",
    "print(count)  # Output: 4"
   ]
  },
  {
   "cell_type": "code",
   "execution_count": 43,
   "id": "bd53c1af",
   "metadata": {},
   "outputs": [
    {
     "name": "stdout",
     "output_type": "stream",
     "text": [
      "[1, 2, 3, 1, 2, 3, 1, 2, 3]\n"
     ]
    }
   ],
   "source": [
    "#Repeating elements in a list \n",
    "numbers = [1, 2, 3]\n",
    "\n",
    "repeated = numbers * 3\n",
    "print(repeated)  # Output: [1, 2, 3, 1, 2, 3, 1, 2, 3]"
   ]
  },
  {
   "cell_type": "code",
   "execution_count": 44,
   "id": "38ad913e",
   "metadata": {},
   "outputs": [
    {
     "name": "stdout",
     "output_type": "stream",
     "text": [
      "True\n",
      "False\n"
     ]
    }
   ],
   "source": [
    "#Equality of two lists \n",
    "\n",
    "list1 = [1, 2, 3]\n",
    "list2 = [1, 2, 3]\n",
    "list3 = [1, 2, 4]\n",
    "\n",
    "are_equal1 = (list1 == list2)\n",
    "are_equal2 = (list1 == list3)\n",
    "\n",
    "print(are_equal1)  # Output: True\n",
    "print(are_equal2)  # Output: False"
   ]
  },
  {
   "cell_type": "code",
   "execution_count": 45,
   "id": "eb51f141",
   "metadata": {},
   "outputs": [
    {
     "name": "stdout",
     "output_type": "stream",
     "text": [
      "0 apple\n",
      "1 banana\n",
      "2 cherry\n"
     ]
    }
   ],
   "source": [
    "#Iterating using enumerate()\n",
    "\n",
    "# The enumerate() function in Python is used to iterate over a sequence (such as a list, tuple, or string) while \n",
    "# simultaneously keeping track of the index of each item. It returns an iterator that produces pairs of (index, item) for \n",
    "# each element in the sequence.\n",
    "\n",
    "# Here's the basic syntax of the enumerate() function:\n",
    "\n",
    "fruits = [\"apple\", \"banana\", \"cherry\"]\n",
    "\n",
    "for index, fruit in enumerate(fruits):\n",
    "    print(index, fruit)\n",
    "# Output:\n",
    "# 0 apple\n",
    "# 1 banana\n",
    "# 2 cherry"
   ]
  }
 ],
 "metadata": {
  "kernelspec": {
   "display_name": "Python 3 (ipykernel)",
   "language": "python",
   "name": "python3"
  },
  "language_info": {
   "codemirror_mode": {
    "name": "ipython",
    "version": 3
   },
   "file_extension": ".py",
   "mimetype": "text/x-python",
   "name": "python",
   "nbconvert_exporter": "python",
   "pygments_lexer": "ipython3",
   "version": "3.9.7"
  }
 },
 "nbformat": 4,
 "nbformat_minor": 5
}
