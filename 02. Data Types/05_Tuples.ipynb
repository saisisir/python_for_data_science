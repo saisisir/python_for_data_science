{
 "cells": [
  {
   "cell_type": "code",
   "execution_count": 5,
   "id": "b9ed229c",
   "metadata": {},
   "outputs": [
    {
     "name": "stdout",
     "output_type": "stream",
     "text": [
      "('apple', 'banana', 'cherry')\n"
     ]
    }
   ],
   "source": [
    "# In Python, a tuple is an immutable sequence data type that is similar to a list. The main difference between a tuple and a \n",
    "# list is that tuples cannot be modified once created, while lists are mutable and can be modified.\n",
    "\n",
    "# Here are some key characteristics and features of tuples:\n",
    "\n",
    "# Immutable: Once a tuple is created, its elements and size cannot be changed. This immutability provides data integrity and \n",
    "# makes tuples suitable for storing related data that should not be modified.\n",
    "\n",
    "# Ordered: Tuples preserve the order of elements, just like lists. You can access elements in a tuple using indexing and \n",
    "# slicing.\n",
    "\n",
    "# Heterogeneous: Tuples can store elements of different data types, such as integers, floats, strings, and even other tuples.\n",
    "\n",
    "# Indexed: Each element in a tuple has a unique index starting from 0, which allows for accessing individual elements using \n",
    "# their index values.\n",
    "\n",
    "# Iterable: Tuples can be iterated over using loops, making it easy to process each element in the tuple.\n",
    "\n",
    "# Packing and Unpacking: Tuples support packing multiple values into a single tuple and unpacking the values into separate \n",
    "# variables.\n",
    "\n",
    "# Here's an example to illustrate the usage of tuples:\n",
    "\n",
    "# Creating a tuple\n",
    "fruits = (\"apple\", \"banana\", \"cherry\")\n",
    "print(fruits)"
   ]
  },
  {
   "cell_type": "code",
   "execution_count": 6,
   "id": "ed308548",
   "metadata": {},
   "outputs": [
    {
     "name": "stdout",
     "output_type": "stream",
     "text": [
      "apple\n",
      "banana\n"
     ]
    }
   ],
   "source": [
    "# Accessing elements\n",
    "print(fruits[0])  # Output: \"apple\"\n",
    "print(fruits[1])  # Output: \"banana\""
   ]
  },
  {
   "cell_type": "code",
   "execution_count": 7,
   "id": "b4628840",
   "metadata": {},
   "outputs": [
    {
     "name": "stdout",
     "output_type": "stream",
     "text": [
      "apple\n",
      "banana\n",
      "cherry\n"
     ]
    }
   ],
   "source": [
    "# Iterating over a tuple\n",
    "for fruit in fruits:\n",
    "    print(fruit)\n",
    "# Output:\n",
    "# \"apple\"\n",
    "# \"banana\"\n",
    "# \"cherry\""
   ]
  },
  {
   "cell_type": "code",
   "execution_count": 8,
   "id": "26874d4d",
   "metadata": {},
   "outputs": [
    {
     "name": "stdout",
     "output_type": "stream",
     "text": [
      "('John', 25, 'New York')\n"
     ]
    }
   ],
   "source": [
    "# Tuple packing\n",
    "name = \"John\"\n",
    "age = 25\n",
    "location = \"New York\"\n",
    "\n",
    "person = (name, age, location)\n",
    "print(person)  # Output: (\"John\", 25, \"New York\")"
   ]
  },
  {
   "cell_type": "code",
   "execution_count": 9,
   "id": "c4b533f2",
   "metadata": {},
   "outputs": [
    {
     "name": "stdout",
     "output_type": "stream",
     "text": [
      "John\n",
      "25\n",
      "New York\n"
     ]
    }
   ],
   "source": [
    "# Tuple unpacking\n",
    "name, age, location = person\n",
    "print(name)     # Output: \"John\"\n",
    "print(age)      # Output: 25\n",
    "print(location) # Output: \"New York\""
   ]
  },
  {
   "cell_type": "code",
   "execution_count": 10,
   "id": "eeb03fea",
   "metadata": {},
   "outputs": [],
   "source": [
    "# Tuples are commonly used when you want to store related data together and ensure that the data remains unchanged. \n",
    "# They can be used in scenarios such as returning multiple values from a function, representing coordinates or points in space,\n",
    "# storing database records, and more."
   ]
  },
  {
   "cell_type": "code",
   "execution_count": 21,
   "id": "e4ec6e3d",
   "metadata": {},
   "outputs": [
    {
     "name": "stdout",
     "output_type": "stream",
     "text": [
      "(1, 5)\n"
     ]
    }
   ],
   "source": [
    "# Returning Multiple values from a function\n",
    "\n",
    "# Tuples are often used to return multiple values from a function as a single entity. For example, a function that\n",
    "# calculates the minimum and maximum values of a list can return a tuple containing both values.\n",
    "\n",
    "def min_max(numbers):\n",
    "    min_value = min(numbers)\n",
    "    max_value = max(numbers)\n",
    "    return min_value, max_value\n",
    "\n",
    "result = min_max([1, 2, 3, 4, 5])\n",
    "print(result)  # Output: (1, 5)\n",
    "\n",
    "def calculate_stats(numbers):\n",
    "    average = sum(numbers) / len(numbers)\n",
    "    minimum = min(numbers)\n",
    "    maximum = max(numbers)\n",
    "    return average, minimum, maximum\n",
    "\n",
    "stats = calculate_stats([1, 2, 3, 4, 5])\n",
    "\n",
    "print(stats)  # Output: (3.0, 1, 5)"
   ]
  },
  {
   "cell_type": "code",
   "execution_count": 19,
   "id": "b1f80f60",
   "metadata": {},
   "outputs": [
    {
     "name": "stdout",
     "output_type": "stream",
     "text": [
      "3\n",
      "5\n"
     ]
    }
   ],
   "source": [
    "# Coordinate points or data pairs: Tuples are useful for representing coordinate points or pairs of related data. For instance, \n",
    "# in graphical applications, you might store the x and y coordinates of a point as a tuple.\n",
    "\n",
    "point = (3, 5)\n",
    "x, y = point\n",
    "print(x)  # Output: 3\n",
    "print(y)  # Output: 5"
   ]
  },
  {
   "cell_type": "code",
   "execution_count": 30,
   "id": "580bd077",
   "metadata": {},
   "outputs": [
    {
     "name": "stdout",
     "output_type": "stream",
     "text": [
      "('John', 'Doe', 25, 'john.doe@example.com')\n",
      "('Jane', 'Smith', 30, 'jane.smith@example.com')\n"
     ]
    }
   ],
   "source": [
    "# Database records or rows: Tuples can be used to represent database records or rows, where each tuple element corresponds to \n",
    "# a field or attribute in the record. Each tuple represents a single record, and a collection of tuples can represent a \n",
    "# database table.\n",
    "\n",
    "customer1 = (\"John\", \"Doe\", 25, \"john.doe@example.com\")\n",
    "customer2 = (\"Jane\", \"Smith\", 30, \"jane.smith@example.com\")\n",
    "\n",
    "customers = [customer1, customer2]\n",
    "for customer in customers:\n",
    "    print(customer)\n",
    "# Output:\n",
    "# (\"John\", \"Doe\", 25, \"john.doe@example.com\")\n",
    "# (\"Jane\", \"Smith\", 30, \"jane.smith@example.com\")"
   ]
  },
  {
   "cell_type": "code",
   "execution_count": 31,
   "id": "c06b7140",
   "metadata": {},
   "outputs": [
    {
     "name": "stdout",
     "output_type": "stream",
     "text": [
      "Alice 25\n",
      "Bob 30\n",
      "Charlie 35\n"
     ]
    }
   ],
   "source": [
    "# Unpacking values in a loop: Tuples can be used to iterate over multiple sequences simultaneously using the zip() \n",
    "# function and unpack the values into separate variables within a loop.\n",
    "\n",
    "names = [\"Alice\", \"Bob\", \"Charlie\"]\n",
    "ages = [25, 30, 35]\n",
    "\n",
    "for name, age in zip(names, ages):\n",
    "    print(name, age)\n",
    "# Output:\n",
    "# \"Alice\" 25\n",
    "# \"Bob\" 30\n",
    "# \"Charlie\" 35\n"
   ]
  },
  {
   "cell_type": "code",
   "execution_count": 39,
   "id": "07d3ed35",
   "metadata": {},
   "outputs": [
    {
     "name": "stdout",
     "output_type": "stream",
     "text": [
      "[('Bob', 20), ('John', 25), ('Alice', 30)]\n"
     ]
    }
   ],
   "source": [
    "# Sorting with custom criteria: Tuples can be used to define custom sorting criteria by comparing specific elements of the \n",
    "# tuples. This allows for more flexible sorting based on multiple attributes.\n",
    "\n",
    "students = [(\"John\", 25), (\"Alice\", 30), (\"Bob\", 20)]\n",
    "\n",
    "sorted_students = sorted(students, key = lambda student: student[1])\n",
    "print(sorted_students)\n",
    "# Output: [(\"Bob\", 20), (\"John\", 25), (\"Alice\", 30)]"
   ]
  },
  {
   "cell_type": "code",
   "execution_count": 40,
   "id": "56318371",
   "metadata": {},
   "outputs": [
    {
     "name": "stdout",
     "output_type": "stream",
     "text": [
      "[('Alice', 30), ('Bob', 20), ('John', 25)]\n"
     ]
    }
   ],
   "source": [
    "sorted_students = sorted(students, key = lambda student: student[0])\n",
    "print(sorted_students)\n",
    "# Output: [(\"Bob\", 20), (\"John\", 25), (\"Alice\", 30)]"
   ]
  },
  {
   "cell_type": "code",
   "execution_count": 41,
   "id": "cc40413e",
   "metadata": {},
   "outputs": [
    {
     "name": "stdout",
     "output_type": "stream",
     "text": [
      "20\n",
      "10\n"
     ]
    }
   ],
   "source": [
    "# Swapping Values: Tuples can be used to swap the values of two variables without the need for a temporary variable.\n",
    "a = 10\n",
    "b = 20\n",
    "\n",
    "a, b = b, a\n",
    "\n",
    "print(a)  # Output: 20\n",
    "print(b)  # Output: 10"
   ]
  }
 ],
 "metadata": {
  "kernelspec": {
   "display_name": "Python 3 (ipykernel)",
   "language": "python",
   "name": "python3"
  },
  "language_info": {
   "codemirror_mode": {
    "name": "ipython",
    "version": 3
   },
   "file_extension": ".py",
   "mimetype": "text/x-python",
   "name": "python",
   "nbconvert_exporter": "python",
   "pygments_lexer": "ipython3",
   "version": "3.9.7"
  }
 },
 "nbformat": 4,
 "nbformat_minor": 5
}
