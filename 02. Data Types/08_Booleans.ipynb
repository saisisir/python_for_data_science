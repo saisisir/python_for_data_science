{
 "cells": [
  {
   "cell_type": "code",
   "execution_count": 1,
   "id": "ec0fc814",
   "metadata": {},
   "outputs": [],
   "source": [
    "# In Python, the Boolean data type represents truth values. A Boolean value can be either True or False. Booleans are used to \n",
    "# perform logical operations, make decisions, and control the flow of a program. Here are some key points about Booleans in \n",
    "# Python:\n",
    "\n",
    "# Boolean Values: There are two possible Boolean values: True and False. They are written as keywords and are case-sensitive.\n",
    "\n",
    "# Comparison Operators: Booleans are often used in comparison operations to evaluate conditions. Comparison operators \n",
    "# include == (equal to), != (not equal to), < (less than), > (greater than), <= (less than or equal to), and >= \n",
    "# (greater than or equal to).\n",
    "\n",
    "# Logical Operators: Booleans are used with logical operators to perform logical operations. The logical operators in Python \n",
    "# are and, or, and not. They are used to combine or negate Boolean expressions.\n",
    "\n",
    "# Boolean Functions: There are built-in functions that can return Boolean values. For example, the bool() function can be used \n",
    "# to evaluate the truthiness of a value, and the isinstance() function can check if an object belongs to a specific data type.\n",
    "\n",
    "# Conditional Statements: Booleans are essential for conditional statements like if, else, and elif. These statements allow \n",
    "# the program to make decisions based on the truth value of Boolean expressions.\n",
    "\n",
    "# Here are some examples that illustrate the usage of Booleans in Python:\n",
    "    \n",
    "# Boolean values\n",
    "is_true = True\n",
    "is_false = False"
   ]
  },
  {
   "cell_type": "code",
   "execution_count": 2,
   "id": "dee3da8a",
   "metadata": {},
   "outputs": [
    {
     "name": "stdout",
     "output_type": "stream",
     "text": [
      "True\n",
      "False\n"
     ]
    }
   ],
   "source": [
    "# Comparison operators\n",
    "x = 5\n",
    "y = 10\n",
    "print(x < y)     # Output: True\n",
    "print(x == y)    # Output: False"
   ]
  },
  {
   "cell_type": "code",
   "execution_count": 3,
   "id": "5ff273b7",
   "metadata": {},
   "outputs": [
    {
     "name": "stdout",
     "output_type": "stream",
     "text": [
      "False\n",
      "True\n",
      "False\n"
     ]
    }
   ],
   "source": [
    "# Logical operators\n",
    "a = True\n",
    "b = False\n",
    "print(a and b)   # Output: False\n",
    "print(a or b)    # Output: True\n",
    "print(not a)     # Output: False"
   ]
  },
  {
   "cell_type": "code",
   "execution_count": 4,
   "id": "4f508baa",
   "metadata": {},
   "outputs": [
    {
     "name": "stdout",
     "output_type": "stream",
     "text": [
      "True\n"
     ]
    }
   ],
   "source": [
    "# Boolean functions\n",
    "value = \"Hello\"\n",
    "print(bool(value))           # Output: True"
   ]
  },
  {
   "cell_type": "code",
   "execution_count": 5,
   "id": "adc9815c",
   "metadata": {},
   "outputs": [
    {
     "name": "stdout",
     "output_type": "stream",
     "text": [
      "You are an adult.\n"
     ]
    }
   ],
   "source": [
    "# Conditional statements\n",
    "age = 25\n",
    "if age >= 18:\n",
    "    print(\"You are an adult.\")\n",
    "else:\n",
    "    print(\"You are a minor.\")"
   ]
  },
  {
   "cell_type": "code",
   "execution_count": 7,
   "id": "000aa15f",
   "metadata": {},
   "outputs": [
    {
     "name": "stdout",
     "output_type": "stream",
     "text": [
      "True\n",
      "False\n"
     ]
    }
   ],
   "source": [
    "#Boolean functions and methods \n",
    "number = \"12345\"\n",
    "print(number.isdigit())  # Output: True\n",
    "\n",
    "text = \"Hello123\"\n",
    "print(text.isdigit())    # Output: False"
   ]
  },
  {
   "cell_type": "code",
   "execution_count": 8,
   "id": "9a3b96b7",
   "metadata": {},
   "outputs": [
    {
     "name": "stdout",
     "output_type": "stream",
     "text": [
      "[2, 4, 6]\n"
     ]
    }
   ],
   "source": [
    "#Boolean Operators in Data Filtering \n",
    "numbers = [1, 2, 3, 4, 5, 6]\n",
    "even_numbers = [num for num in numbers if num % 2 == 0]\n",
    "print(even_numbers)  # Output: [2, 4, 6]"
   ]
  },
  {
   "cell_type": "code",
   "execution_count": 9,
   "id": "a4ebbaf6",
   "metadata": {},
   "outputs": [
    {
     "name": "stdout",
     "output_type": "stream",
     "text": [
      "Error: division by zero\n",
      "An error occurred\n"
     ]
    }
   ],
   "source": [
    "#Error handling\n",
    "try:\n",
    "    result = 10 / 0\n",
    "except ZeroDivisionError as error:\n",
    "    print(\"Error:\", error)\n",
    "    is_error = True\n",
    "else:\n",
    "    is_error = False\n",
    "\n",
    "if is_error:\n",
    "    print(\"An error occurred\")\n",
    "else:\n",
    "    print(\"No error occurred\")"
   ]
  }
 ],
 "metadata": {
  "kernelspec": {
   "display_name": "Python 3 (ipykernel)",
   "language": "python",
   "name": "python3"
  },
  "language_info": {
   "codemirror_mode": {
    "name": "ipython",
    "version": 3
   },
   "file_extension": ".py",
   "mimetype": "text/x-python",
   "name": "python",
   "nbconvert_exporter": "python",
   "pygments_lexer": "ipython3",
   "version": "3.9.7"
  }
 },
 "nbformat": 4,
 "nbformat_minor": 5
}
