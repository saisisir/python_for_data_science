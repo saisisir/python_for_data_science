{
 "cells": [
  {
   "cell_type": "code",
   "execution_count": 3,
   "id": "714c5398",
   "metadata": {},
   "outputs": [
    {
     "name": "stdout",
     "output_type": "stream",
     "text": [
      "{'cherry', 'banana', 'apple'}\n"
     ]
    }
   ],
   "source": [
    "# In Python, a set is an unordered collection of unique elements. It is defined by enclosing a comma-separated list of elements\n",
    "# within curly braces {} or by using the set() function. Here are some key characteristics and features of sets:\n",
    "\n",
    "# Uniqueness: Sets only contain unique elements. Duplicate values are automatically eliminated, and only one instance of each \n",
    "# value is retained.\n",
    "\n",
    "# Unordered: Sets are unordered, which means that the elements are not stored in any specific order. The order of elements\n",
    "# in a set is not guaranteed, and it may vary between different operations or executions.\n",
    "\n",
    "# Mutable: Sets are mutable, meaning that you can add or remove elements from a set after it is created.\n",
    "\n",
    "# No Indexing: Unlike lists or tuples, sets do not support indexing. You cannot access individual elements of a set by their \n",
    "# position.\n",
    "\n",
    "# Membership Testing: Sets are efficient for membership testing. You can quickly check if an element exists in a set using the \n",
    "# in operator.\n",
    "\n",
    "# Mathematical Set Operations: Sets support various mathematical set operations such as union, intersection, difference, \n",
    "# and symmetric difference. These operations can be performed using operators or methods.\n",
    "\n",
    "# Here's an example to illustrate the usage of sets:\n",
    "\n",
    "fruits = {\"apple\", \"banana\", \"cherry\"}  # Creating a set\n",
    "\n",
    "print(fruits)  # Output: {'apple', 'cherry', 'banana'} #Not ordered"
   ]
  },
  {
   "cell_type": "code",
   "execution_count": 5,
   "id": "109a88c5",
   "metadata": {},
   "outputs": [
    {
     "name": "stdout",
     "output_type": "stream",
     "text": [
      "{'apple', 'cherry', 'banana', 'orange'}\n"
     ]
    }
   ],
   "source": [
    "# Adding elements to a set\n",
    "fruits.add(\"orange\")\n",
    "fruits.add(\"banana\")  # Adding a duplicate value (ignored)\n",
    "\n",
    "print(fruits)  # Output: {\"apple\", \"banana\", \"cherry\", \"orange\"}"
   ]
  },
  {
   "cell_type": "code",
   "execution_count": 3,
   "id": "06bf3019",
   "metadata": {},
   "outputs": [
    {
     "name": "stdout",
     "output_type": "stream",
     "text": [
      "{'cherry', 'banana', 'orange'}\n"
     ]
    }
   ],
   "source": [
    "# Removing elements from a set\n",
    "fruits.remove(\"apple\")\n",
    "fruits.discard(\"mango\")  # Removing a non-existent element (no error)\n",
    "\n",
    "print(fruits)  # Output: {\"banana\", \"cherry\", \"orange\"}"
   ]
  },
  {
   "cell_type": "code",
   "execution_count": 7,
   "id": "cd4f6a06",
   "metadata": {},
   "outputs": [
    {
     "name": "stdout",
     "output_type": "stream",
     "text": [
      "True\n",
      "False\n",
      "cherry\n",
      "banana\n",
      "apple\n"
     ]
    }
   ],
   "source": [
    "# Checking membership\n",
    "fruits = {\"apple\", \"banana\", \"cherry\"}\n",
    "\n",
    "# Membership Testing\n",
    "print(\"banana\" in fruits)  # Output: True\n",
    "print(\"mango\" in fruits)   # Output: False\n",
    "\n",
    "# Iteration\n",
    "for fruit in fruits:\n",
    "    print(fruit)\n",
    "# Output:\n",
    "# \"apple\"\n",
    "# \"banana\"\n",
    "# \"cherry\""
   ]
  },
  {
   "cell_type": "code",
   "execution_count": 5,
   "id": "b81965d1",
   "metadata": {},
   "outputs": [
    {
     "name": "stdout",
     "output_type": "stream",
     "text": [
      "{1, 2, 3, 4, 5, 6}\n"
     ]
    }
   ],
   "source": [
    "#Removing Duplicates\n",
    "numbers = [1, 2, 3, 2, 4, 1, 5, 6, 4]\n",
    "unique_numbers = set(numbers)\n",
    "\n",
    "print(unique_numbers)  # Output: {1, 2, 3, 4, 5, 6}"
   ]
  },
  {
   "cell_type": "code",
   "execution_count": 6,
   "id": "32dbf576",
   "metadata": {},
   "outputs": [
    {
     "name": "stdout",
     "output_type": "stream",
     "text": [
      "{1, 2, 3, 4, 5, 6, 7, 8}\n",
      "{4, 5}\n",
      "{1, 2, 3}\n",
      "{1, 2, 3, 6, 7, 8}\n"
     ]
    }
   ],
   "source": [
    "#Set Operations\n",
    "set1 = {1, 2, 3, 4, 5}\n",
    "set2 = {4, 5, 6, 7, 8}\n",
    "\n",
    "# Union\n",
    "union_set = set1 | set2\n",
    "print(union_set)  # Output: {1, 2, 3, 4, 5, 6, 7, 8}\n",
    "\n",
    "# Intersection\n",
    "intersection_set = set1 & set2\n",
    "print(intersection_set)  # Output: {4, 5}\n",
    "\n",
    "# Difference\n",
    "difference_set = set1 - set2\n",
    "print(difference_set)  # Output: {1, 2, 3}\n",
    "\n",
    "# Symmetric Difference\n",
    "symmetric_difference_set = set1 ^ set2\n",
    "print(symmetric_difference_set)  # Output: {1, 2, 3, 6, 7, 8}"
   ]
  },
  {
   "cell_type": "code",
   "execution_count": 8,
   "id": "90c96e1b",
   "metadata": {},
   "outputs": [
    {
     "name": "stdout",
     "output_type": "stream",
     "text": [
      "{1, 4, 9, 16, 25}\n"
     ]
    }
   ],
   "source": [
    "#Set Comprehension\n",
    "numbers = [1, 2, 3, 4, 5]\n",
    "square_set = {x**2 for x in numbers}\n",
    "\n",
    "print(square_set)  # Output: {1, 4, 9, 16, 25}"
   ]
  }
 ],
 "metadata": {
  "kernelspec": {
   "display_name": "Python 3 (ipykernel)",
   "language": "python",
   "name": "python3"
  },
  "language_info": {
   "codemirror_mode": {
    "name": "ipython",
    "version": 3
   },
   "file_extension": ".py",
   "mimetype": "text/x-python",
   "name": "python",
   "nbconvert_exporter": "python",
   "pygments_lexer": "ipython3",
   "version": "3.9.7"
  }
 },
 "nbformat": 4,
 "nbformat_minor": 5
}
