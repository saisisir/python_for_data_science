{
 "cells": [
  {
   "cell_type": "code",
   "execution_count": 4,
   "id": "562ff9d5",
   "metadata": {},
   "outputs": [],
   "source": [
    "# Declaring and initializing variables is an essential concept in programming. In most programming languages, \n",
    "# variables are used to store data that can be used later in the program. The process of declaring and initializing variables \n",
    "# involves creating a variable and assigning a value to it.\n",
    "\n",
    "# Here's an example in Python:\n",
    "\n",
    "# Declaring and initializing a variable called \"name\"\n",
    "name = \"John\"\n",
    "\n",
    "# Declaring and initializing a variable called \"age\"\n",
    "age = 25\n"
   ]
  },
  {
   "cell_type": "code",
   "execution_count": 5,
   "id": "4665b24f",
   "metadata": {},
   "outputs": [
    {
     "name": "stdout",
     "output_type": "stream",
     "text": [
      "John\n"
     ]
    }
   ],
   "source": [
    "print(name)"
   ]
  },
  {
   "cell_type": "code",
   "execution_count": 6,
   "id": "7ff2b0f2",
   "metadata": {},
   "outputs": [
    {
     "name": "stdout",
     "output_type": "stream",
     "text": [
      "25\n"
     ]
    }
   ],
   "source": [
    "print(age)"
   ]
  }
 ],
 "metadata": {
  "kernelspec": {
   "display_name": "Python 3 (ipykernel)",
   "language": "python",
   "name": "python3"
  },
  "language_info": {
   "codemirror_mode": {
    "name": "ipython",
    "version": 3
   },
   "file_extension": ".py",
   "mimetype": "text/x-python",
   "name": "python",
   "nbconvert_exporter": "python",
   "pygments_lexer": "ipython3",
   "version": "3.9.7"
  }
 },
 "nbformat": 4,
 "nbformat_minor": 5
}
