{
 "cells": [
  {
   "cell_type": "markdown",
   "id": "b05ed745",
   "metadata": {},
   "source": [
    "<!-- File handling in Python refers to the process of working with files, such as reading from or writing to them. Python provides built-in functions and modules to facilitate file handling operations. Here's an overview of the commonly used methods and concepts for file handling in Python: -->"
   ]
  },
  {
   "cell_type": "markdown",
   "id": "3a57e05b",
   "metadata": {},
   "source": [
    "<!-- Opening a File:\n",
    "To open a file, you can use the open() function. It takes two parameters: the file path and the mode in which you want to open the file. The mode can be 'r' for reading, 'w' for writing (creates a new file or overwrites an existing file), 'a' for appending (adds data to the end of an existing file), or 'x' for exclusive creation (fails if the file already exists). -->\n",
    "\n",
    "file = open('filename.txt', 'r') "
   ]
  },
  {
   "cell_type": "code",
   "execution_count": null,
   "id": "79449dd0",
   "metadata": {},
   "outputs": [],
   "source": [
    "# Reading from a File:\n",
    "# There are multiple ways to read data from a file. The most common methods are:\n",
    "\n",
    "# read(size): Reads and returns a specified number of characters from the file.\n",
    "# readline(): Reads a single line from the file.\n",
    "# readlines(): Reads all lines from the file and returns them as a list.\n",
    "    \n",
    "content = file.read()  # Read the entire file\n",
    "line = file.readline()  # Read a single line\n",
    "lines = file.readlines()  # Read all lines as a list"
   ]
  },
  {
   "cell_type": "code",
   "execution_count": null,
   "id": "4d341034",
   "metadata": {},
   "outputs": [],
   "source": [
    "# Writing to a File:\n",
    "# To write data to a file, you need to open it in write mode ('w' or 'a'). Use the write() method to write data to the file. \n",
    "# If the file does not exist, it will be created.\n",
    "\n",
    "file = open('filename.txt', 'w')\n",
    "file.write('Hello, World!')"
   ]
  },
  {
   "cell_type": "code",
   "execution_count": null,
   "id": "de1126e0",
   "metadata": {},
   "outputs": [],
   "source": [
    "# Closing a File:\n",
    "# After you finish working with a file, it's important to close it using the close() method. Closing a file releases the \n",
    "# system resources associated with it.\n",
    "\n",
    "file.close()"
   ]
  },
  {
   "cell_type": "code",
   "execution_count": null,
   "id": "47de32bc",
   "metadata": {},
   "outputs": [],
   "source": [
    "# Using the with Statement:\n",
    "# The with statement provides a cleaner way to work with files. It automatically takes care of closing the file after you \n",
    "# are done with it, even if an exception occurs.\n",
    "\n",
    "with open('filename.txt', 'r') as file:\n",
    "    # Perform file operations"
   ]
  },
  {
   "cell_type": "code",
   "execution_count": null,
   "id": "1afaf86d",
   "metadata": {},
   "outputs": [],
   "source": [
    "# File Positions:\n",
    "# When reading from or writing to a file, the file object maintains a position that tracks where the next operation will occur.\n",
    "# You can control this position using the seek() method.\n",
    "\n",
    "file.seek(0)  # Move the file position to the beginning"
   ]
  },
  {
   "cell_type": "code",
   "execution_count": null,
   "id": "94189177",
   "metadata": {},
   "outputs": [],
   "source": [
    "# Reading a File from a Specific Position:\n",
    "\n",
    "with open('filename.txt', 'r') as file:\n",
    "    file.seek(5)  # Move to the 6th character (index starts at 0)\n",
    "    content = file.read()\n",
    "    print(content)"
   ]
  },
  {
   "cell_type": "code",
   "execution_count": null,
   "id": "0e46223c",
   "metadata": {},
   "outputs": [],
   "source": [
    "# Writing to a File at a Specific Position:\n",
    "\n",
    "with open('filename.txt', 'r+') as file:\n",
    "    file.seek(10)  # Move to the 11th character\n",
    "    file.write('New data')"
   ]
  },
  {
   "cell_type": "code",
   "execution_count": null,
   "id": "38a56c29",
   "metadata": {},
   "outputs": [],
   "source": [
    "# Appending Data to a File and Reading the Updated Content:\n",
    "\n",
    "with open('filename.txt', 'a+') as file:\n",
    "    file.write('Appended data\\n')\n",
    "    file.seek(0)  # Move to the beginning of the file\n",
    "    content = file.read()\n",
    "    print(content)"
   ]
  },
  {
   "cell_type": "code",
   "execution_count": null,
   "id": "d00dea88",
   "metadata": {},
   "outputs": [],
   "source": [
    "# Reading and Writing Binary Data:\n",
    "\n",
    "with open('image.jpg', 'rb') as file:\n",
    "    data = file.read()\n",
    "\n",
    "with open('new_image.jpg', 'wb') as file:\n",
    "    file.write(data)\n",
    "\n",
    "In this example, the file 'image.jpg' is opened in binary read mode ('rb'), and the data is read. Then, a new file \n",
    "'new_image.jpg' is created in binary write mode ('wb'), and the data is written to it."
   ]
  }
 ],
 "metadata": {
  "kernelspec": {
   "display_name": "Python 3 (ipykernel)",
   "language": "python",
   "name": "python3"
  },
  "language_info": {
   "codemirror_mode": {
    "name": "ipython",
    "version": 3
   },
   "file_extension": ".py",
   "mimetype": "text/x-python",
   "name": "python",
   "nbconvert_exporter": "python",
   "pygments_lexer": "ipython3",
   "version": "3.9.7"
  }
 },
 "nbformat": 4,
 "nbformat_minor": 5
}
