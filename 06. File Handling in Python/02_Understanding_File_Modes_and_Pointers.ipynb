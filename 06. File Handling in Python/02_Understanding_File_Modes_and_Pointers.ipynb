{
 "cells": [
  {
   "cell_type": "markdown",
   "id": "bb73c9d7",
   "metadata": {},
   "source": [
    "<!-- In file handling, file modes and file pointers are important concepts to understand. Let's take a closer look at each of them:\n",
    "\n",
    "File Modes:\n",
    "File modes determine how a file should be opened and used. Python provides several modes that can be passed as the second parameter to the open() function. Here are the commonly used file modes:\n",
    "\n",
    "'r': Read mode. Opens the file for reading. If the file doesn't exist, a FileNotFoundError is raised.\n",
    "'w': Write mode. Opens the file for writing. If the file exists, it is truncated (emptied). If it doesn't exist, a new file is created.\n",
    "'a': Append mode. Opens the file for appending data. If the file exists, the new data is added to the end of the file. If it doesn't exist, a new file is created.\n",
    "'x': Exclusive creation mode. Creates a new file for writing. If the file already exists, a FileExistsError is raised.\n",
    "'t' or 'b': Text mode (default). This mode is used for working with text files.\n",
    "'+': Read and write mode. Opens the file for both reading and writing.\n",
    "You can combine multiple modes by specifying them as a string. For example, 'r+' opens the file for both reading and writing.\n",
    "\n",
    "File Pointers:\n",
    "A file pointer, also known as the file position, represents the current location within a file. It keeps track of where the next read or write operation will occur. Initially, the file pointer is at the beginning of the file (position 0).\n",
    "\n",
    "When you read or write data, the file pointer moves automatically to the next position. For example, after reading a line, the file pointer moves to the start of the next line.\n",
    "\n",
    "You can manually move the file pointer using the seek() method. It takes two arguments: the offset and the reference point. The offset indicates the number of bytes to move, and the reference point specifies the position from where the offset should be calculated.\n",
    "\n",
    "Common reference points are:\n",
    "\n",
    "0 (default): The start of the file.\n",
    "1: The current file position.\n",
    "2: The end of the file.\n",
    "Here's an example that demonstrates moving the file pointer and reading from a specific position:\n",
    "\n",
    "with open('filename.txt', 'r') as file:\n",
    "    file.seek(10)  # Move to the 10th byte position from the beginning\n",
    "    content = file.read()\n",
    "    print(content) -->"
   ]
  }
 ],
 "metadata": {
  "kernelspec": {
   "display_name": "Python 3 (ipykernel)",
   "language": "python",
   "name": "python3"
  },
  "language_info": {
   "codemirror_mode": {
    "name": "ipython",
    "version": 3
   },
   "file_extension": ".py",
   "mimetype": "text/x-python",
   "name": "python",
   "nbconvert_exporter": "python",
   "pygments_lexer": "ipython3",
   "version": "3.9.7"
  }
 },
 "nbformat": 4,
 "nbformat_minor": 5
}
